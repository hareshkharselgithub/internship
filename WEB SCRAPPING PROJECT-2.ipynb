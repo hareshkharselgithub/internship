{
 "cells": [
  {
   "cell_type": "markdown",
   "id": "72432bcf",
   "metadata": {},
   "source": [
    "# WEB SCRAPING ASSIGNMENT-2"
   ]
  },
  {
   "cell_type": "markdown",
   "id": "7062c9a6",
   "metadata": {},
   "source": [
    "Q1: Write a python program to scrape data for “Data Analyst” Job position in “Bangalore” location. You have to scrape the job-title, job-location, company_name, experience_required. You have to scrape first 10 jobs data.\n",
    "This task will be done in following steps:\n",
    "1. First get the webpage https://www.naukri.com/\n",
    "2. Enter “Data Analyst” in “Skill, Designations, Companies” field and enter “Bangalore” in “enter the location” field.\n",
    "3. Then click the search button.\n",
    "4. Then scrape the data for the first 10 jobs results you get.\n",
    "5. Finally create a dataframe of the scraped data."
   ]
  },
  {
   "cell_type": "code",
   "execution_count": 1,
   "id": "283072dd",
   "metadata": {},
   "outputs": [
    {
     "name": "stdout",
     "output_type": "stream",
     "text": [
      "Requirement already satisfied: selenium in c:\\programdata\\anaconda3\\lib\\site-packages (4.1.5)\n",
      "Requirement already satisfied: trio~=0.17 in c:\\programdata\\anaconda3\\lib\\site-packages (from selenium) (0.20.0)\n",
      "Requirement already satisfied: trio-websocket~=0.9 in c:\\programdata\\anaconda3\\lib\\site-packages (from selenium) (0.9.2)\n",
      "Requirement already satisfied: urllib3[secure,socks]~=1.26 in c:\\programdata\\anaconda3\\lib\\site-packages (from selenium) (1.26.7)\n",
      "Requirement already satisfied: sortedcontainers in c:\\programdata\\anaconda3\\lib\\site-packages (from trio~=0.17->selenium) (2.4.0)\n",
      "Requirement already satisfied: cffi>=1.14 in c:\\programdata\\anaconda3\\lib\\site-packages (from trio~=0.17->selenium) (1.14.6)\n",
      "Requirement already satisfied: attrs>=19.2.0 in c:\\programdata\\anaconda3\\lib\\site-packages (from trio~=0.17->selenium) (21.2.0)\n",
      "Requirement already satisfied: sniffio in c:\\programdata\\anaconda3\\lib\\site-packages (from trio~=0.17->selenium) (1.2.0)\n",
      "Requirement already satisfied: idna in c:\\programdata\\anaconda3\\lib\\site-packages (from trio~=0.17->selenium) (3.2)\n",
      "Requirement already satisfied: async-generator>=1.9 in c:\\programdata\\anaconda3\\lib\\site-packages (from trio~=0.17->selenium) (1.10)\n",
      "Requirement already satisfied: outcome in c:\\programdata\\anaconda3\\lib\\site-packages (from trio~=0.17->selenium) (1.1.0)\n",
      "Requirement already satisfied: pycparser in c:\\programdata\\anaconda3\\lib\\site-packages (from cffi>=1.14->trio~=0.17->selenium) (2.20)\n",
      "Requirement already satisfied: wsproto>=0.14 in c:\\programdata\\anaconda3\\lib\\site-packages (from trio-websocket~=0.9->selenium) (1.1.0)\n",
      "Requirement already satisfied: PySocks!=1.5.7,<2.0,>=1.5.6 in c:\\programdata\\anaconda3\\lib\\site-packages (from urllib3[secure,socks]~=1.26->selenium) (1.7.1)\n",
      "Requirement already satisfied: pyOpenSSL>=0.14 in c:\\programdata\\anaconda3\\lib\\site-packages (from urllib3[secure,socks]~=1.26->selenium) (21.0.0)\n",
      "Requirement already satisfied: cryptography>=1.3.4 in c:\\programdata\\anaconda3\\lib\\site-packages (from urllib3[secure,socks]~=1.26->selenium) (3.4.8)\n",
      "Requirement already satisfied: certifi in c:\\programdata\\anaconda3\\lib\\site-packages (from urllib3[secure,socks]~=1.26->selenium) (2021.10.8)\n",
      "Requirement already satisfied: six>=1.5.2 in c:\\programdata\\anaconda3\\lib\\site-packages (from pyOpenSSL>=0.14->urllib3[secure,socks]~=1.26->selenium) (1.16.0)\n",
      "Requirement already satisfied: h11<1,>=0.9.0 in c:\\programdata\\anaconda3\\lib\\site-packages (from wsproto>=0.14->trio-websocket~=0.9->selenium) (0.13.0)\n"
     ]
    }
   ],
   "source": [
    "!pip install selenium"
   ]
  },
  {
   "cell_type": "code",
   "execution_count": 2,
   "id": "6e5adf0e",
   "metadata": {},
   "outputs": [],
   "source": [
    "import selenium\n",
    "from selenium import webdriver\n",
    "import pandas as pd\n",
    "import warnings\n",
    "warnings.filterwarnings(\"ignore\")\n",
    "import time"
   ]
  },
  {
   "cell_type": "code",
   "execution_count": 11,
   "id": "d4df5066",
   "metadata": {},
   "outputs": [],
   "source": [
    "driver=webdriver.Chrome(r\"C:\\webdriver\\Chromedriver.exe\")"
   ]
  },
  {
   "cell_type": "code",
   "execution_count": 16,
   "id": "b960bb81",
   "metadata": {},
   "outputs": [],
   "source": [
    "driver=webdriver.Chrome(\"chromedriver.exe\")\n",
    "time.sleep(2)"
   ]
  },
  {
   "cell_type": "code",
   "execution_count": 18,
   "id": "0587c616",
   "metadata": {},
   "outputs": [],
   "source": [
    "driver.get(\"https://www.naukri.com/\")"
   ]
  },
  {
   "cell_type": "code",
   "execution_count": 23,
   "id": "e01ce392",
   "metadata": {},
   "outputs": [],
   "source": [
    "search_field_designation=driver.find_element_by_class_name(\"suggestor-input \")\n",
    "search_field_designation.send_keys(\"Data Analyst\")"
   ]
  },
  {
   "cell_type": "code",
   "execution_count": 24,
   "id": "fcb54c4d",
   "metadata": {},
   "outputs": [],
   "source": [
    "search_field_designation=driver.find_element_by_class_name(\"suggestor-input \")\n",
    "search_field_designation.send_keys(\"Bangalore\")"
   ]
  },
  {
   "cell_type": "code",
   "execution_count": 25,
   "id": "d795b560",
   "metadata": {},
   "outputs": [],
   "source": [
    "search_field_location=driver.find_element_by_xpath(\"/html/body/div/div[2]/div[3]/div/div/div[3]/div/div/div/input\")\n",
    "search_field_location.send_keys(\"Bangalore\")"
   ]
  },
  {
   "cell_type": "code",
   "execution_count": 26,
   "id": "4a8f9297",
   "metadata": {},
   "outputs": [],
   "source": [
    "search_button=driver.find_element_by_xpath(\"/html/body/div/div[2]/div[3]/div/div/div[6]\")\n",
    "search_button.click()"
   ]
  },
  {
   "cell_type": "code",
   "execution_count": 46,
   "id": "0c48331c",
   "metadata": {},
   "outputs": [],
   "source": [
    "job_titles=[]\n",
    "company_names=[]\n",
    "locations=[]\n",
    "experience_list=[]"
   ]
  },
  {
   "cell_type": "code",
   "execution_count": 47,
   "id": "fb067181",
   "metadata": {},
   "outputs": [
    {
     "data": {
      "text/plain": [
       "[<selenium.webdriver.remote.webelement.WebElement (session=\"73f1b1ac818f26b9386d1b79bad57400\", element=\"a04f528b-3750-47bc-915c-cc8096a8a641\")>]"
      ]
     },
     "execution_count": 47,
     "metadata": {},
     "output_type": "execute_result"
    }
   ],
   "source": [
    "titles_tags=driver.find_elements_by_xpath(\"//a[@class='title fw500 ellipsis']\")\n",
    "titles_tags[:10]"
   ]
  },
  {
   "cell_type": "code",
   "execution_count": 48,
   "id": "fc47f722",
   "metadata": {},
   "outputs": [
    {
     "data": {
      "text/plain": [
       "['Lead Data Analyst']"
      ]
     },
     "execution_count": 48,
     "metadata": {},
     "output_type": "execute_result"
    }
   ],
   "source": [
    "for i in titles_tags:\n",
    "    title=i.text\n",
    "    job_titles.append(title)\n",
    "job_titles[:10]"
   ]
  },
  {
   "cell_type": "code",
   "execution_count": 49,
   "id": "e55d00b1",
   "metadata": {},
   "outputs": [
    {
     "data": {
      "text/plain": [
       "[<selenium.webdriver.remote.webelement.WebElement (session=\"73f1b1ac818f26b9386d1b79bad57400\", element=\"e7e7eace-94b4-4581-b3f9-9b5f80530692\")>]"
      ]
     },
     "execution_count": 49,
     "metadata": {},
     "output_type": "execute_result"
    }
   ],
   "source": [
    "companies_tags=driver.find_elements_by_xpath(\"//a[@class='subTitle ellipsis fleft']\")\n",
    "companies_tags[:10]"
   ]
  },
  {
   "cell_type": "code",
   "execution_count": 50,
   "id": "4fbbf3be",
   "metadata": {},
   "outputs": [
    {
     "data": {
      "text/plain": [
       "['Zilingo.com']"
      ]
     },
     "execution_count": 50,
     "metadata": {},
     "output_type": "execute_result"
    }
   ],
   "source": [
    "for i in companies_tags:\n",
    "    company_name=i.text\n",
    "    company_names.append(company_name)\n",
    "company_names[:10]    "
   ]
  },
  {
   "cell_type": "code",
   "execution_count": 51,
   "id": "1421e0bf",
   "metadata": {},
   "outputs": [
    {
     "data": {
      "text/plain": [
       "[<selenium.webdriver.remote.webelement.WebElement (session=\"73f1b1ac818f26b9386d1b79bad57400\", element=\"1d378e56-5654-4365-b602-24aa3c086444\")>]"
      ]
     },
     "execution_count": 51,
     "metadata": {},
     "output_type": "execute_result"
    }
   ],
   "source": [
    "experience_tags=driver.find_elements_by_xpath(\"//li[@class='fleft grey-text br2 placeHolderLi experience']\")\n",
    "experience_tags[:10]"
   ]
  },
  {
   "cell_type": "code",
   "execution_count": 52,
   "id": "bef5d676",
   "metadata": {},
   "outputs": [
    {
     "data": {
      "text/plain": [
       "['2-5 Yrs']"
      ]
     },
     "execution_count": 52,
     "metadata": {},
     "output_type": "execute_result"
    }
   ],
   "source": [
    "for i in experience_tags:\n",
    "    experience=i.text\n",
    "    experience_list.append(experience)\n",
    "experience_list[:10]"
   ]
  },
  {
   "cell_type": "code",
   "execution_count": 53,
   "id": "88331225",
   "metadata": {},
   "outputs": [
    {
     "data": {
      "text/plain": [
       "[<selenium.webdriver.remote.webelement.WebElement (session=\"73f1b1ac818f26b9386d1b79bad57400\", element=\"bb9d8ee8-ba25-4963-86c5-a5a69ef77106\")>]"
      ]
     },
     "execution_count": 53,
     "metadata": {},
     "output_type": "execute_result"
    }
   ],
   "source": [
    "locations_tags=driver=driver.find_elements_by_xpath(\"//li[@class='fleft grey-text br2 placeHolderLi location']\")\n",
    "locations_tags[:10]"
   ]
  },
  {
   "cell_type": "code",
   "execution_count": 54,
   "id": "ffa61188",
   "metadata": {},
   "outputs": [
    {
     "data": {
      "text/plain": [
       "['Bangalore/Bengaluru']"
      ]
     },
     "execution_count": 54,
     "metadata": {},
     "output_type": "execute_result"
    }
   ],
   "source": [
    "for i in locations_tags:\n",
    "    location=i.text\n",
    "    locations.append(location)\n",
    "locations[:10]   "
   ]
  },
  {
   "cell_type": "code",
   "execution_count": 55,
   "id": "d0d0509c",
   "metadata": {},
   "outputs": [],
   "source": [
    "jobs=pd.DataFrame({})\n",
    "jobs['title']=job_titles\n",
    "jobs['company']=company_names\n",
    "jobs['experience_required']=experience_list\n",
    "jobs['location']=locations"
   ]
  },
  {
   "cell_type": "code",
   "execution_count": 56,
   "id": "98f04352",
   "metadata": {},
   "outputs": [
    {
     "data": {
      "text/html": [
       "<div>\n",
       "<style scoped>\n",
       "    .dataframe tbody tr th:only-of-type {\n",
       "        vertical-align: middle;\n",
       "    }\n",
       "\n",
       "    .dataframe tbody tr th {\n",
       "        vertical-align: top;\n",
       "    }\n",
       "\n",
       "    .dataframe thead th {\n",
       "        text-align: right;\n",
       "    }\n",
       "</style>\n",
       "<table border=\"1\" class=\"dataframe\">\n",
       "  <thead>\n",
       "    <tr style=\"text-align: right;\">\n",
       "      <th></th>\n",
       "      <th>title</th>\n",
       "      <th>company</th>\n",
       "      <th>experience_required</th>\n",
       "      <th>location</th>\n",
       "    </tr>\n",
       "  </thead>\n",
       "  <tbody>\n",
       "    <tr>\n",
       "      <th>0</th>\n",
       "      <td>Lead Data Analyst</td>\n",
       "      <td>Zilingo.com</td>\n",
       "      <td>2-5 Yrs</td>\n",
       "      <td>Bangalore/Bengaluru</td>\n",
       "    </tr>\n",
       "  </tbody>\n",
       "</table>\n",
       "</div>"
      ],
      "text/plain": [
       "               title      company experience_required             location\n",
       "0  Lead Data Analyst  Zilingo.com             2-5 Yrs  Bangalore/Bengaluru"
      ]
     },
     "execution_count": 56,
     "metadata": {},
     "output_type": "execute_result"
    }
   ],
   "source": [
    "jobs"
   ]
  },
  {
   "cell_type": "markdown",
   "id": "04870650",
   "metadata": {},
   "source": [
    "Q2: Write a python program to scrape data for “Data Scientist” Job position in “Bangalore” location. You have to scrape the job-title, job-location, company_name. You have to scrape first 10 jobs data.\n",
    "This task will be done in following steps:\n",
    "1. First get the webpage https://www.naukri.com/\n",
    "2. Enter “Data Scientist” in “Skill, Designations, Companies” field and enter “Bangalore” in “enter the location” field.\n",
    "3. Then click the search button.\n",
    "4. Then scrape the data for the first 10 jobs results you get.\n",
    "5. Finally create a dataframe of the scraped data."
   ]
  },
  {
   "cell_type": "code",
   "execution_count": 57,
   "id": "3ecca6d7",
   "metadata": {},
   "outputs": [
    {
     "name": "stdout",
     "output_type": "stream",
     "text": [
      "Requirement already satisfied: selenium in c:\\programdata\\anaconda3\\lib\\site-packages (4.1.5)\n",
      "Requirement already satisfied: trio~=0.17 in c:\\programdata\\anaconda3\\lib\\site-packages (from selenium) (0.20.0)\n",
      "Requirement already satisfied: trio-websocket~=0.9 in c:\\programdata\\anaconda3\\lib\\site-packages (from selenium) (0.9.2)\n",
      "Requirement already satisfied: urllib3[secure,socks]~=1.26 in c:\\programdata\\anaconda3\\lib\\site-packages (from selenium) (1.26.7)\n",
      "Requirement already satisfied: sniffio in c:\\programdata\\anaconda3\\lib\\site-packages (from trio~=0.17->selenium) (1.2.0)\n",
      "Requirement already satisfied: cffi>=1.14 in c:\\programdata\\anaconda3\\lib\\site-packages (from trio~=0.17->selenium) (1.14.6)\n",
      "Requirement already satisfied: idna in c:\\programdata\\anaconda3\\lib\\site-packages (from trio~=0.17->selenium) (3.2)\n",
      "Requirement already satisfied: attrs>=19.2.0 in c:\\programdata\\anaconda3\\lib\\site-packages (from trio~=0.17->selenium) (21.2.0)\n",
      "Requirement already satisfied: async-generator>=1.9 in c:\\programdata\\anaconda3\\lib\\site-packages (from trio~=0.17->selenium) (1.10)\n",
      "Requirement already satisfied: sortedcontainers in c:\\programdata\\anaconda3\\lib\\site-packages (from trio~=0.17->selenium) (2.4.0)\n",
      "Requirement already satisfied: outcome in c:\\programdata\\anaconda3\\lib\\site-packages (from trio~=0.17->selenium) (1.1.0)\n",
      "Requirement already satisfied: pycparser in c:\\programdata\\anaconda3\\lib\\site-packages (from cffi>=1.14->trio~=0.17->selenium) (2.20)\n",
      "Requirement already satisfied: wsproto>=0.14 in c:\\programdata\\anaconda3\\lib\\site-packages (from trio-websocket~=0.9->selenium) (1.1.0)\n",
      "Requirement already satisfied: pyOpenSSL>=0.14 in c:\\programdata\\anaconda3\\lib\\site-packages (from urllib3[secure,socks]~=1.26->selenium) (21.0.0)\n",
      "Requirement already satisfied: cryptography>=1.3.4 in c:\\programdata\\anaconda3\\lib\\site-packages (from urllib3[secure,socks]~=1.26->selenium) (3.4.8)\n",
      "Requirement already satisfied: certifi in c:\\programdata\\anaconda3\\lib\\site-packages (from urllib3[secure,socks]~=1.26->selenium) (2021.10.8)\n",
      "Requirement already satisfied: PySocks!=1.5.7,<2.0,>=1.5.6 in c:\\programdata\\anaconda3\\lib\\site-packages (from urllib3[secure,socks]~=1.26->selenium) (1.7.1)\n",
      "Requirement already satisfied: six>=1.5.2 in c:\\programdata\\anaconda3\\lib\\site-packages (from pyOpenSSL>=0.14->urllib3[secure,socks]~=1.26->selenium) (1.16.0)\n",
      "Requirement already satisfied: h11<1,>=0.9.0 in c:\\programdata\\anaconda3\\lib\\site-packages (from wsproto>=0.14->trio-websocket~=0.9->selenium) (0.13.0)\n"
     ]
    }
   ],
   "source": [
    "!pip install selenium"
   ]
  },
  {
   "cell_type": "code",
   "execution_count": 58,
   "id": "ff47aa90",
   "metadata": {},
   "outputs": [],
   "source": [
    "import selenium\n",
    "from selenium import webdriver\n",
    "import pandas as pd\n",
    "import warnings\n",
    "warnings.filterwarnings(\"ignore\")\n",
    "import time"
   ]
  },
  {
   "cell_type": "code",
   "execution_count": 59,
   "id": "a20f0570",
   "metadata": {},
   "outputs": [],
   "source": [
    "driver=webdriver.Chrome(r\"C:\\webdriver\\Chromedriver.exe\")"
   ]
  },
  {
   "cell_type": "code",
   "execution_count": 60,
   "id": "7bd7fe10",
   "metadata": {},
   "outputs": [],
   "source": [
    "driver=webdriver.Chrome(\"chromedriver.exe\")\n",
    "time.sleep(2)"
   ]
  },
  {
   "cell_type": "code",
   "execution_count": 61,
   "id": "b32e1b15",
   "metadata": {},
   "outputs": [],
   "source": [
    "driver.get(\"https://www.naukri.com/\")"
   ]
  },
  {
   "cell_type": "code",
   "execution_count": 84,
   "id": "9681a950",
   "metadata": {},
   "outputs": [],
   "source": [
    "search_field_designation=driver.find_element_by_class_name(\"suggestor-input \")\n",
    "search_field_designation.send_keys(\"Data Scientist\")"
   ]
  },
  {
   "cell_type": "code",
   "execution_count": 81,
   "id": "ccea26f3",
   "metadata": {},
   "outputs": [],
   "source": [
    "search_field_designation=driver.find_element_by_class_name(\"suggestor-input \")\n",
    "search_field_designation.send_keys(\"Bangalore\")"
   ]
  },
  {
   "cell_type": "code",
   "execution_count": 85,
   "id": "9d621c33",
   "metadata": {},
   "outputs": [],
   "source": [
    "search_field_location=driver.find_element_by_xpath(\"/html/body/div/div[2]/div[3]/div/div/div[3]/div/div/div/input\")\n",
    "search_field_location.send_keys(\"Bangalore\")"
   ]
  },
  {
   "cell_type": "code",
   "execution_count": 86,
   "id": "53e35d8b",
   "metadata": {},
   "outputs": [],
   "source": [
    "search_button=driver.find_element_by_xpath(\"/html/body/div/div[2]/div[3]/div/div/div[6]\")\n",
    "search_button.click()"
   ]
  },
  {
   "cell_type": "code",
   "execution_count": 87,
   "id": "932b1a8e",
   "metadata": {},
   "outputs": [],
   "source": [
    "job_titles=[]\n",
    "company_names=[]\n",
    "locations=[]\n",
    "experience_list=[]"
   ]
  },
  {
   "cell_type": "code",
   "execution_count": 88,
   "id": "d3f32f5c",
   "metadata": {},
   "outputs": [
    {
     "data": {
      "text/plain": [
       "[<selenium.webdriver.remote.webelement.WebElement (session=\"2fdceab805eeec3584f0587347e1f09e\", element=\"986e4a6f-fe1d-447b-9770-518c00e5679f\")>,\n",
       " <selenium.webdriver.remote.webelement.WebElement (session=\"2fdceab805eeec3584f0587347e1f09e\", element=\"3aacc256-eeb6-4128-ab76-b57b1123c630\")>,\n",
       " <selenium.webdriver.remote.webelement.WebElement (session=\"2fdceab805eeec3584f0587347e1f09e\", element=\"66ca3523-7274-4011-88c1-7ac80cb2310f\")>,\n",
       " <selenium.webdriver.remote.webelement.WebElement (session=\"2fdceab805eeec3584f0587347e1f09e\", element=\"e4f82c67-6c8d-4f3c-93e6-5f7bf1439a04\")>,\n",
       " <selenium.webdriver.remote.webelement.WebElement (session=\"2fdceab805eeec3584f0587347e1f09e\", element=\"fc22daff-211c-4282-b807-969529ad1833\")>,\n",
       " <selenium.webdriver.remote.webelement.WebElement (session=\"2fdceab805eeec3584f0587347e1f09e\", element=\"e36f1d3c-d50f-49c5-952a-fd0b2eff7102\")>,\n",
       " <selenium.webdriver.remote.webelement.WebElement (session=\"2fdceab805eeec3584f0587347e1f09e\", element=\"623695d0-9266-4349-981e-379051a3dc02\")>,\n",
       " <selenium.webdriver.remote.webelement.WebElement (session=\"2fdceab805eeec3584f0587347e1f09e\", element=\"e42a843d-dab2-442b-a479-9867087b33ce\")>,\n",
       " <selenium.webdriver.remote.webelement.WebElement (session=\"2fdceab805eeec3584f0587347e1f09e\", element=\"8349a82b-c0d6-42a7-8b58-1c788c341751\")>,\n",
       " <selenium.webdriver.remote.webelement.WebElement (session=\"2fdceab805eeec3584f0587347e1f09e\", element=\"f4c2a7bf-9ed2-4f51-aedd-58560f693f90\")>]"
      ]
     },
     "execution_count": 88,
     "metadata": {},
     "output_type": "execute_result"
    }
   ],
   "source": [
    "titles_tags=driver.find_elements_by_xpath(\"//a[@class='title fw500 ellipsis']\")\n",
    "titles_tags[:10]"
   ]
  },
  {
   "cell_type": "code",
   "execution_count": 89,
   "id": "53722022",
   "metadata": {},
   "outputs": [
    {
     "data": {
      "text/plain": [
       "['Senior Data Scientist',\n",
       " 'Sr. Analyst - Applied Data Scientist',\n",
       " 'Applied Data Scientist / ML Senior Engineer (Python / SQL)',\n",
       " 'Data Scientist',\n",
       " 'Expert Data Scientist',\n",
       " 'Principal Data Scientist',\n",
       " 'Analyst - Applied Data Scientist',\n",
       " 'Research Data Scientist',\n",
       " 'Senior Data Scientist Grade12',\n",
       " 'Senior Data Scientist Grade12']"
      ]
     },
     "execution_count": 89,
     "metadata": {},
     "output_type": "execute_result"
    }
   ],
   "source": [
    "for i in titles_tags:\n",
    "    title=i.text\n",
    "    job_titles.append(title)\n",
    "job_titles[:10]"
   ]
  },
  {
   "cell_type": "code",
   "execution_count": 90,
   "id": "27728c4b",
   "metadata": {},
   "outputs": [
    {
     "data": {
      "text/plain": [
       "[<selenium.webdriver.remote.webelement.WebElement (session=\"2fdceab805eeec3584f0587347e1f09e\", element=\"a0018f3c-912d-47f5-9a8e-c6d20d05e7f2\")>,\n",
       " <selenium.webdriver.remote.webelement.WebElement (session=\"2fdceab805eeec3584f0587347e1f09e\", element=\"345a5ba6-fa51-4478-9388-0c4c82aace80\")>,\n",
       " <selenium.webdriver.remote.webelement.WebElement (session=\"2fdceab805eeec3584f0587347e1f09e\", element=\"8228bb49-6a4c-4bdb-8bde-b8a998494ebc\")>,\n",
       " <selenium.webdriver.remote.webelement.WebElement (session=\"2fdceab805eeec3584f0587347e1f09e\", element=\"f12becc2-f33b-478d-a42c-7d8516529448\")>,\n",
       " <selenium.webdriver.remote.webelement.WebElement (session=\"2fdceab805eeec3584f0587347e1f09e\", element=\"66d86efb-36ea-4ed5-97b2-ba0060d24482\")>,\n",
       " <selenium.webdriver.remote.webelement.WebElement (session=\"2fdceab805eeec3584f0587347e1f09e\", element=\"b4d77b8b-e2d4-414d-9eab-84ed042a497a\")>,\n",
       " <selenium.webdriver.remote.webelement.WebElement (session=\"2fdceab805eeec3584f0587347e1f09e\", element=\"bf7ea3b6-acd4-4787-bcc7-8098881263c1\")>,\n",
       " <selenium.webdriver.remote.webelement.WebElement (session=\"2fdceab805eeec3584f0587347e1f09e\", element=\"9e2a9cf4-3f08-41ca-ac42-24090fe258f2\")>,\n",
       " <selenium.webdriver.remote.webelement.WebElement (session=\"2fdceab805eeec3584f0587347e1f09e\", element=\"c9eb8f71-be8b-4c52-9f3f-0f6f001f2749\")>,\n",
       " <selenium.webdriver.remote.webelement.WebElement (session=\"2fdceab805eeec3584f0587347e1f09e\", element=\"8e0e81d5-1f0b-44bf-93c3-83bb96750b7b\")>]"
      ]
     },
     "execution_count": 90,
     "metadata": {},
     "output_type": "execute_result"
    }
   ],
   "source": [
    "companies_tags=driver.find_elements_by_xpath(\"//a[@class='subTitle ellipsis fleft']\")\n",
    "companies_tags[:10]"
   ]
  },
  {
   "cell_type": "code",
   "execution_count": 91,
   "id": "e85cf574",
   "metadata": {},
   "outputs": [
    {
     "data": {
      "text/plain": [
       "['UPL',\n",
       " 'Tesco',\n",
       " 'SAP India Pvt.Ltd',\n",
       " 'UPL',\n",
       " 'UPL',\n",
       " 'UPL',\n",
       " 'Tesco',\n",
       " 'Mavenir',\n",
       " 'Flipkart',\n",
       " 'Flipkart']"
      ]
     },
     "execution_count": 91,
     "metadata": {},
     "output_type": "execute_result"
    }
   ],
   "source": [
    "for i in companies_tags:\n",
    "    company_name=i.text\n",
    "    company_names.append(company_name)\n",
    "company_names[:10] "
   ]
  },
  {
   "cell_type": "code",
   "execution_count": 92,
   "id": "4fdda077",
   "metadata": {},
   "outputs": [
    {
     "data": {
      "text/plain": [
       "[<selenium.webdriver.remote.webelement.WebElement (session=\"2fdceab805eeec3584f0587347e1f09e\", element=\"02a1706e-6105-45ba-b095-015dc9022005\")>,\n",
       " <selenium.webdriver.remote.webelement.WebElement (session=\"2fdceab805eeec3584f0587347e1f09e\", element=\"05aa9d8a-4488-466d-a443-ba8cfa0dc7ee\")>,\n",
       " <selenium.webdriver.remote.webelement.WebElement (session=\"2fdceab805eeec3584f0587347e1f09e\", element=\"3ec2d01a-b322-490c-8e01-86c560699878\")>,\n",
       " <selenium.webdriver.remote.webelement.WebElement (session=\"2fdceab805eeec3584f0587347e1f09e\", element=\"83ee0a3a-db15-4ab3-8c6f-7e04fee76668\")>,\n",
       " <selenium.webdriver.remote.webelement.WebElement (session=\"2fdceab805eeec3584f0587347e1f09e\", element=\"8ba1c9c0-ca7e-4b9b-859c-69ee2605737e\")>,\n",
       " <selenium.webdriver.remote.webelement.WebElement (session=\"2fdceab805eeec3584f0587347e1f09e\", element=\"0b4ae5c7-2436-4bb1-8777-48edd0775076\")>,\n",
       " <selenium.webdriver.remote.webelement.WebElement (session=\"2fdceab805eeec3584f0587347e1f09e\", element=\"6b3f820c-e4bc-4abe-bcbb-816ea48d47af\")>,\n",
       " <selenium.webdriver.remote.webelement.WebElement (session=\"2fdceab805eeec3584f0587347e1f09e\", element=\"1e2d4595-454a-4a83-8f3e-6bffef4a5949\")>,\n",
       " <selenium.webdriver.remote.webelement.WebElement (session=\"2fdceab805eeec3584f0587347e1f09e\", element=\"9ab28560-f2c3-4a43-a61d-ad40414fd5b8\")>,\n",
       " <selenium.webdriver.remote.webelement.WebElement (session=\"2fdceab805eeec3584f0587347e1f09e\", element=\"ff21c173-1f63-494d-835a-4192512b005b\")>]"
      ]
     },
     "execution_count": 92,
     "metadata": {},
     "output_type": "execute_result"
    }
   ],
   "source": [
    "experience_tags=driver.find_elements_by_xpath(\"//li[@class='fleft grey-text br2 placeHolderLi experience']\")\n",
    "experience_tags[:10]"
   ]
  },
  {
   "cell_type": "code",
   "execution_count": 93,
   "id": "eb513d79",
   "metadata": {},
   "outputs": [
    {
     "data": {
      "text/plain": [
       "['3-6 Yrs',\n",
       " '3-5 Yrs',\n",
       " '5-10 Yrs',\n",
       " '1-4 Yrs',\n",
       " '6-9 Yrs',\n",
       " '12-16 Yrs',\n",
       " '1-2 Yrs',\n",
       " '4-9 Yrs',\n",
       " '5-10 Yrs',\n",
       " '5-7 Yrs']"
      ]
     },
     "execution_count": 93,
     "metadata": {},
     "output_type": "execute_result"
    }
   ],
   "source": [
    "for i in experience_tags:\n",
    "    experience=i.text\n",
    "    experience_list.append(experience)\n",
    "experience_list[:10]"
   ]
  },
  {
   "cell_type": "code",
   "execution_count": 94,
   "id": "aab6d5ca",
   "metadata": {},
   "outputs": [
    {
     "data": {
      "text/plain": [
       "[<selenium.webdriver.remote.webelement.WebElement (session=\"2fdceab805eeec3584f0587347e1f09e\", element=\"3986176e-adb2-48f2-9eab-c894ce987a4e\")>,\n",
       " <selenium.webdriver.remote.webelement.WebElement (session=\"2fdceab805eeec3584f0587347e1f09e\", element=\"25045637-4919-4b18-be2d-d925e0d2a037\")>,\n",
       " <selenium.webdriver.remote.webelement.WebElement (session=\"2fdceab805eeec3584f0587347e1f09e\", element=\"7fa87d20-b15e-4971-8f2a-452688c4346d\")>,\n",
       " <selenium.webdriver.remote.webelement.WebElement (session=\"2fdceab805eeec3584f0587347e1f09e\", element=\"f73932c8-7850-436e-8ddc-d464f2bb12bb\")>,\n",
       " <selenium.webdriver.remote.webelement.WebElement (session=\"2fdceab805eeec3584f0587347e1f09e\", element=\"194c893d-3d23-49ca-94d5-24898614c52f\")>,\n",
       " <selenium.webdriver.remote.webelement.WebElement (session=\"2fdceab805eeec3584f0587347e1f09e\", element=\"ae8131da-412a-4c67-b9e3-b1613d4ef1c6\")>,\n",
       " <selenium.webdriver.remote.webelement.WebElement (session=\"2fdceab805eeec3584f0587347e1f09e\", element=\"a333e8bc-3d7d-4c4d-adb5-e02f6c9d67b4\")>,\n",
       " <selenium.webdriver.remote.webelement.WebElement (session=\"2fdceab805eeec3584f0587347e1f09e\", element=\"b370edc0-e8a4-47dd-9a42-c75d6616cfcb\")>,\n",
       " <selenium.webdriver.remote.webelement.WebElement (session=\"2fdceab805eeec3584f0587347e1f09e\", element=\"c2269094-c1cc-4f3a-9572-7c9a177889ab\")>,\n",
       " <selenium.webdriver.remote.webelement.WebElement (session=\"2fdceab805eeec3584f0587347e1f09e\", element=\"aee5cf03-1ef7-476b-a143-ec515557cf3d\")>]"
      ]
     },
     "execution_count": 94,
     "metadata": {},
     "output_type": "execute_result"
    }
   ],
   "source": [
    "locations_tags=driver=driver.find_elements_by_xpath(\"//li[@class='fleft grey-text br2 placeHolderLi location']\")\n",
    "locations_tags[:10]"
   ]
  },
  {
   "cell_type": "code",
   "execution_count": 95,
   "id": "90c6225a",
   "metadata": {},
   "outputs": [
    {
     "data": {
      "text/plain": [
       "['Bangalore/Bengaluru, Mumbai (All Areas)',\n",
       " 'Bangalore/Bengaluru',\n",
       " 'Bangalore/Bengaluru',\n",
       " 'Bangalore/Bengaluru, Mumbai (All Areas)',\n",
       " 'Bangalore/Bengaluru, Mumbai (All Areas)',\n",
       " 'Bangalore/Bengaluru, Mumbai (All Areas)',\n",
       " 'Bangalore/Bengaluru',\n",
       " 'Bangalore/Bengaluru',\n",
       " 'Bangalore/Bengaluru',\n",
       " 'Bangalore/Bengaluru']"
      ]
     },
     "execution_count": 95,
     "metadata": {},
     "output_type": "execute_result"
    }
   ],
   "source": [
    "for i in locations_tags:\n",
    "    location=i.text\n",
    "    locations.append(location)\n",
    "locations[:10] "
   ]
  },
  {
   "cell_type": "code",
   "execution_count": 96,
   "id": "bc02e9f9",
   "metadata": {},
   "outputs": [],
   "source": [
    "jobs=pd.DataFrame({})\n",
    "jobs['title']=job_titles\n",
    "jobs['company']=company_names\n",
    "jobs['experience_required']=experience_list\n",
    "jobs['location']=locations"
   ]
  },
  {
   "cell_type": "code",
   "execution_count": 97,
   "id": "dc080eab",
   "metadata": {},
   "outputs": [
    {
     "data": {
      "text/html": [
       "<div>\n",
       "<style scoped>\n",
       "    .dataframe tbody tr th:only-of-type {\n",
       "        vertical-align: middle;\n",
       "    }\n",
       "\n",
       "    .dataframe tbody tr th {\n",
       "        vertical-align: top;\n",
       "    }\n",
       "\n",
       "    .dataframe thead th {\n",
       "        text-align: right;\n",
       "    }\n",
       "</style>\n",
       "<table border=\"1\" class=\"dataframe\">\n",
       "  <thead>\n",
       "    <tr style=\"text-align: right;\">\n",
       "      <th></th>\n",
       "      <th>title</th>\n",
       "      <th>company</th>\n",
       "      <th>experience_required</th>\n",
       "      <th>location</th>\n",
       "    </tr>\n",
       "  </thead>\n",
       "  <tbody>\n",
       "    <tr>\n",
       "      <th>0</th>\n",
       "      <td>Senior Data Scientist</td>\n",
       "      <td>UPL</td>\n",
       "      <td>3-6 Yrs</td>\n",
       "      <td>Bangalore/Bengaluru, Mumbai (All Areas)</td>\n",
       "    </tr>\n",
       "    <tr>\n",
       "      <th>1</th>\n",
       "      <td>Sr. Analyst - Applied Data Scientist</td>\n",
       "      <td>Tesco</td>\n",
       "      <td>3-5 Yrs</td>\n",
       "      <td>Bangalore/Bengaluru</td>\n",
       "    </tr>\n",
       "    <tr>\n",
       "      <th>2</th>\n",
       "      <td>Applied Data Scientist / ML Senior Engineer (P...</td>\n",
       "      <td>SAP India Pvt.Ltd</td>\n",
       "      <td>5-10 Yrs</td>\n",
       "      <td>Bangalore/Bengaluru</td>\n",
       "    </tr>\n",
       "    <tr>\n",
       "      <th>3</th>\n",
       "      <td>Data Scientist</td>\n",
       "      <td>UPL</td>\n",
       "      <td>1-4 Yrs</td>\n",
       "      <td>Bangalore/Bengaluru, Mumbai (All Areas)</td>\n",
       "    </tr>\n",
       "    <tr>\n",
       "      <th>4</th>\n",
       "      <td>Expert Data Scientist</td>\n",
       "      <td>UPL</td>\n",
       "      <td>6-9 Yrs</td>\n",
       "      <td>Bangalore/Bengaluru, Mumbai (All Areas)</td>\n",
       "    </tr>\n",
       "    <tr>\n",
       "      <th>5</th>\n",
       "      <td>Principal Data Scientist</td>\n",
       "      <td>UPL</td>\n",
       "      <td>12-16 Yrs</td>\n",
       "      <td>Bangalore/Bengaluru, Mumbai (All Areas)</td>\n",
       "    </tr>\n",
       "    <tr>\n",
       "      <th>6</th>\n",
       "      <td>Analyst - Applied Data Scientist</td>\n",
       "      <td>Tesco</td>\n",
       "      <td>1-2 Yrs</td>\n",
       "      <td>Bangalore/Bengaluru</td>\n",
       "    </tr>\n",
       "    <tr>\n",
       "      <th>7</th>\n",
       "      <td>Research Data Scientist</td>\n",
       "      <td>Mavenir</td>\n",
       "      <td>4-9 Yrs</td>\n",
       "      <td>Bangalore/Bengaluru</td>\n",
       "    </tr>\n",
       "    <tr>\n",
       "      <th>8</th>\n",
       "      <td>Senior Data Scientist Grade12</td>\n",
       "      <td>Flipkart</td>\n",
       "      <td>5-10 Yrs</td>\n",
       "      <td>Bangalore/Bengaluru</td>\n",
       "    </tr>\n",
       "    <tr>\n",
       "      <th>9</th>\n",
       "      <td>Senior Data Scientist Grade12</td>\n",
       "      <td>Flipkart</td>\n",
       "      <td>5-7 Yrs</td>\n",
       "      <td>Bangalore/Bengaluru</td>\n",
       "    </tr>\n",
       "    <tr>\n",
       "      <th>10</th>\n",
       "      <td>Assistant Manager/Manager/Senior Manager - Dat...</td>\n",
       "      <td>Huquo Consulting Pvt. Ltd</td>\n",
       "      <td>2-7 Yrs</td>\n",
       "      <td>Gurgaon/Gurugram, Bangalore/Bengaluru</td>\n",
       "    </tr>\n",
       "    <tr>\n",
       "      <th>11</th>\n",
       "      <td>Data Scientist / Machine learning Engineer- Py...</td>\n",
       "      <td>Leading US MNC into Analytics</td>\n",
       "      <td>2-7 Yrs</td>\n",
       "      <td>Gurgaon/Gurugram, Bangalore/Bengaluru, Delhi /...</td>\n",
       "    </tr>\n",
       "    <tr>\n",
       "      <th>12</th>\n",
       "      <td>Data Scientist: Advanced Analytics</td>\n",
       "      <td>IBM</td>\n",
       "      <td>3-7 Yrs</td>\n",
       "      <td>Bangalore/Bengaluru</td>\n",
       "    </tr>\n",
       "    <tr>\n",
       "      <th>13</th>\n",
       "      <td>Data Scientist: Advanced Analytics</td>\n",
       "      <td>IBM</td>\n",
       "      <td>2-5 Yrs</td>\n",
       "      <td>Bangalore/Bengaluru</td>\n",
       "    </tr>\n",
       "    <tr>\n",
       "      <th>14</th>\n",
       "      <td>Data Scientist: Advanced Analytics</td>\n",
       "      <td>IBM</td>\n",
       "      <td>5-7 Yrs</td>\n",
       "      <td>Bengaluru/Bangalore</td>\n",
       "    </tr>\n",
       "    <tr>\n",
       "      <th>15</th>\n",
       "      <td>Data Scientist</td>\n",
       "      <td>Genpact</td>\n",
       "      <td>5-8 Yrs</td>\n",
       "      <td>Hyderabad/Secunderabad, Bangalore/Bengaluru, D...</td>\n",
       "    </tr>\n",
       "    <tr>\n",
       "      <th>16</th>\n",
       "      <td>Data Scientist</td>\n",
       "      <td>VISA</td>\n",
       "      <td>3-7 Yrs</td>\n",
       "      <td>Bangalore/Bengaluru</td>\n",
       "    </tr>\n",
       "    <tr>\n",
       "      <th>17</th>\n",
       "      <td>Data Scientist: Artificial Intelligence</td>\n",
       "      <td>IBM</td>\n",
       "      <td>10-12 Yrs</td>\n",
       "      <td>Bangalore/Bengaluru</td>\n",
       "    </tr>\n",
       "    <tr>\n",
       "      <th>18</th>\n",
       "      <td>Data Scientist: Artificial Intelligence</td>\n",
       "      <td>IBM</td>\n",
       "      <td>11-12 Yrs</td>\n",
       "      <td>Bengaluru/Bangalore</td>\n",
       "    </tr>\n",
       "    <tr>\n",
       "      <th>19</th>\n",
       "      <td>Data Scientist: Artificial Intelligence</td>\n",
       "      <td>IBM</td>\n",
       "      <td>11-12 Yrs</td>\n",
       "      <td>Bengaluru/Bangalore</td>\n",
       "    </tr>\n",
       "  </tbody>\n",
       "</table>\n",
       "</div>"
      ],
      "text/plain": [
       "                                                title  \\\n",
       "0                               Senior Data Scientist   \n",
       "1                Sr. Analyst - Applied Data Scientist   \n",
       "2   Applied Data Scientist / ML Senior Engineer (P...   \n",
       "3                                      Data Scientist   \n",
       "4                               Expert Data Scientist   \n",
       "5                            Principal Data Scientist   \n",
       "6                    Analyst - Applied Data Scientist   \n",
       "7                             Research Data Scientist   \n",
       "8                       Senior Data Scientist Grade12   \n",
       "9                       Senior Data Scientist Grade12   \n",
       "10  Assistant Manager/Manager/Senior Manager - Dat...   \n",
       "11  Data Scientist / Machine learning Engineer- Py...   \n",
       "12                 Data Scientist: Advanced Analytics   \n",
       "13                 Data Scientist: Advanced Analytics   \n",
       "14                 Data Scientist: Advanced Analytics   \n",
       "15                                     Data Scientist   \n",
       "16                                     Data Scientist   \n",
       "17            Data Scientist: Artificial Intelligence   \n",
       "18            Data Scientist: Artificial Intelligence   \n",
       "19            Data Scientist: Artificial Intelligence   \n",
       "\n",
       "                          company experience_required  \\\n",
       "0                             UPL             3-6 Yrs   \n",
       "1                           Tesco             3-5 Yrs   \n",
       "2               SAP India Pvt.Ltd            5-10 Yrs   \n",
       "3                             UPL             1-4 Yrs   \n",
       "4                             UPL             6-9 Yrs   \n",
       "5                             UPL           12-16 Yrs   \n",
       "6                           Tesco             1-2 Yrs   \n",
       "7                         Mavenir             4-9 Yrs   \n",
       "8                        Flipkart            5-10 Yrs   \n",
       "9                        Flipkart             5-7 Yrs   \n",
       "10      Huquo Consulting Pvt. Ltd             2-7 Yrs   \n",
       "11  Leading US MNC into Analytics             2-7 Yrs   \n",
       "12                            IBM             3-7 Yrs   \n",
       "13                            IBM             2-5 Yrs   \n",
       "14                            IBM             5-7 Yrs   \n",
       "15                        Genpact             5-8 Yrs   \n",
       "16                           VISA             3-7 Yrs   \n",
       "17                            IBM           10-12 Yrs   \n",
       "18                            IBM           11-12 Yrs   \n",
       "19                            IBM           11-12 Yrs   \n",
       "\n",
       "                                             location  \n",
       "0             Bangalore/Bengaluru, Mumbai (All Areas)  \n",
       "1                                 Bangalore/Bengaluru  \n",
       "2                                 Bangalore/Bengaluru  \n",
       "3             Bangalore/Bengaluru, Mumbai (All Areas)  \n",
       "4             Bangalore/Bengaluru, Mumbai (All Areas)  \n",
       "5             Bangalore/Bengaluru, Mumbai (All Areas)  \n",
       "6                                 Bangalore/Bengaluru  \n",
       "7                                 Bangalore/Bengaluru  \n",
       "8                                 Bangalore/Bengaluru  \n",
       "9                                 Bangalore/Bengaluru  \n",
       "10              Gurgaon/Gurugram, Bangalore/Bengaluru  \n",
       "11  Gurgaon/Gurugram, Bangalore/Bengaluru, Delhi /...  \n",
       "12                                Bangalore/Bengaluru  \n",
       "13                                Bangalore/Bengaluru  \n",
       "14                                Bengaluru/Bangalore  \n",
       "15  Hyderabad/Secunderabad, Bangalore/Bengaluru, D...  \n",
       "16                                Bangalore/Bengaluru  \n",
       "17                                Bangalore/Bengaluru  \n",
       "18                                Bengaluru/Bangalore  \n",
       "19                                Bengaluru/Bangalore  "
      ]
     },
     "execution_count": 97,
     "metadata": {},
     "output_type": "execute_result"
    }
   ],
   "source": [
    "jobs"
   ]
  },
  {
   "cell_type": "markdown",
   "id": "56372da8",
   "metadata": {},
   "source": [
    "Q3: In this question you have to scrape data using the filters available on the webpage as shown below:\n",
    "        You have to use the location and salary filter.\n",
    "You have to scrape data for “Data Scientist” designation for first 10 job results.\n",
    "You have to scrape the job-title, job-location, company name, experience required. The location filter to be used is “Delhi/NCR”. The salary filter to be used is “3-6” lakhs\n",
    "The task will be done as shown in the below steps:\n",
    "1. first get the webpage https://www.naukri.com/\n",
    "2. Enter “Data Scientist” in “Skill, Designations, and Companies” field.\n",
    "3. Then click the search button.\n",
    "4. Then apply the location filter and salary filter by checking the respective boxes\n",
    "5. Then scrape the data for the first 10 jobs results you get.\n",
    "6. Finally create a dataframe of the scraped data.\n",
    "Note: All of the above steps have to be done in code. No step is to be done manually."
   ]
  },
  {
   "cell_type": "code",
   "execution_count": 98,
   "id": "e6241b3b",
   "metadata": {},
   "outputs": [],
   "source": [
    "import selenium\n",
    "from selenium import webdriver\n",
    "import pandas as pd\n",
    "import warnings\n",
    "warnings.filterwarnings(\"ignore\")\n",
    "import time"
   ]
  },
  {
   "cell_type": "code",
   "execution_count": 99,
   "id": "38f1c9a6",
   "metadata": {},
   "outputs": [],
   "source": [
    "driver=webdriver.Chrome(r\"C:\\webdriver\\Chromedriver.exe\")"
   ]
  },
  {
   "cell_type": "code",
   "execution_count": 100,
   "id": "2124b920",
   "metadata": {},
   "outputs": [],
   "source": [
    "driver=webdriver.Chrome(\"chromedriver.exe\")\n",
    "time.sleep(2)"
   ]
  },
  {
   "cell_type": "code",
   "execution_count": 101,
   "id": "f26e78c6",
   "metadata": {},
   "outputs": [],
   "source": [
    "driver.get(\"https://www.naukri.com/\")"
   ]
  },
  {
   "cell_type": "code",
   "execution_count": 102,
   "id": "cd81ac7f",
   "metadata": {},
   "outputs": [],
   "source": [
    "search_field_designation=driver.find_element_by_class_name(\"suggestor-input \")\n",
    "search_field_designation.send_keys(\"Data Scientist\")"
   ]
  },
  {
   "cell_type": "code",
   "execution_count": 104,
   "id": "2d0f8985",
   "metadata": {},
   "outputs": [],
   "source": [
    "search_field_designation=driver.find_element_by_class_name(\"suggestor-input \")\n",
    "search_field_designation.send_keys(\"Delhi/NCR\")"
   ]
  },
  {
   "cell_type": "code",
   "execution_count": 105,
   "id": "897b6adf",
   "metadata": {},
   "outputs": [],
   "source": [
    "search_field_location=driver.find_element_by_xpath(\"/html/body/div/div[2]/div[3]/div/div/div[3]/div/div/div/input\")\n",
    "search_field_location.send_keys(\"Delhi/NCR\")"
   ]
  },
  {
   "cell_type": "code",
   "execution_count": 106,
   "id": "24a6aaf1",
   "metadata": {},
   "outputs": [],
   "source": [
    "search_button=driver.find_element_by_xpath(\"/html/body/div/div[2]/div[3]/div/div/div[6]\")\n",
    "search_button.click()"
   ]
  },
  {
   "cell_type": "code",
   "execution_count": 107,
   "id": "079816a7",
   "metadata": {},
   "outputs": [],
   "source": [
    "job_titles=[]\n",
    "company_names=[]\n",
    "locations=[]\n",
    "experience_list=[]"
   ]
  },
  {
   "cell_type": "code",
   "execution_count": 108,
   "id": "1db4930f",
   "metadata": {},
   "outputs": [
    {
     "data": {
      "text/plain": [
       "[<selenium.webdriver.remote.webelement.WebElement (session=\"fb2bb44ec5252d80507dea1b2c171aa9\", element=\"be29fabc-3462-45c4-9e2c-5de6251bca49\")>,\n",
       " <selenium.webdriver.remote.webelement.WebElement (session=\"fb2bb44ec5252d80507dea1b2c171aa9\", element=\"2f5e1149-a22c-4807-97f6-cb276d08862b\")>,\n",
       " <selenium.webdriver.remote.webelement.WebElement (session=\"fb2bb44ec5252d80507dea1b2c171aa9\", element=\"465c4c5e-0e1e-4612-83c9-94734532ef14\")>,\n",
       " <selenium.webdriver.remote.webelement.WebElement (session=\"fb2bb44ec5252d80507dea1b2c171aa9\", element=\"2482f804-8794-43e8-940b-093b7ab10175\")>,\n",
       " <selenium.webdriver.remote.webelement.WebElement (session=\"fb2bb44ec5252d80507dea1b2c171aa9\", element=\"dc6379ce-6533-4bee-bab2-ce857ae1c033\")>,\n",
       " <selenium.webdriver.remote.webelement.WebElement (session=\"fb2bb44ec5252d80507dea1b2c171aa9\", element=\"a3f520ba-8f72-4eaa-99cf-630d84fa72bf\")>,\n",
       " <selenium.webdriver.remote.webelement.WebElement (session=\"fb2bb44ec5252d80507dea1b2c171aa9\", element=\"5341ec37-6e43-4532-ac12-261561076ad6\")>,\n",
       " <selenium.webdriver.remote.webelement.WebElement (session=\"fb2bb44ec5252d80507dea1b2c171aa9\", element=\"dc0a3c02-2654-49b0-bc8f-8bced8789a9c\")>,\n",
       " <selenium.webdriver.remote.webelement.WebElement (session=\"fb2bb44ec5252d80507dea1b2c171aa9\", element=\"7d8d2607-0f61-4e78-8266-b0e7b2de7b8e\")>,\n",
       " <selenium.webdriver.remote.webelement.WebElement (session=\"fb2bb44ec5252d80507dea1b2c171aa9\", element=\"5b8647d4-94a7-40ba-893f-26b47864afc2\")>]"
      ]
     },
     "execution_count": 108,
     "metadata": {},
     "output_type": "execute_result"
    }
   ],
   "source": [
    "titles_tags=driver.find_elements_by_xpath(\"//a[@class='title fw500 ellipsis']\")\n",
    "titles_tags[:10]"
   ]
  },
  {
   "cell_type": "code",
   "execution_count": 109,
   "id": "53204542",
   "metadata": {},
   "outputs": [
    {
     "data": {
      "text/plain": [
       "['Assistant Manager/Manager/Senior Manager - Data Scientist',\n",
       " 'Job Opportunity || Data Scientist || HCL Technologies',\n",
       " 'Data Scientist',\n",
       " 'Data Scientist / Machine learning Engineer- Python/NLP',\n",
       " 'Data Scientist/ Sr Data Scientist',\n",
       " 'Data Scientist/ Analyst Specialist',\n",
       " 'Data Scientist',\n",
       " 'Lead Data Scientist',\n",
       " 'Manager - Data Scientist - Analytics',\n",
       " 'Senior Data Scientist']"
      ]
     },
     "execution_count": 109,
     "metadata": {},
     "output_type": "execute_result"
    }
   ],
   "source": [
    "for i in titles_tags:\n",
    "    title=i.text\n",
    "    job_titles.append(title)\n",
    "job_titles[:10]"
   ]
  },
  {
   "cell_type": "code",
   "execution_count": 110,
   "id": "3682702c",
   "metadata": {},
   "outputs": [
    {
     "data": {
      "text/plain": [
       "[<selenium.webdriver.remote.webelement.WebElement (session=\"fb2bb44ec5252d80507dea1b2c171aa9\", element=\"b222c9f5-ffde-49ff-a76f-bd7aa5d14ba6\")>,\n",
       " <selenium.webdriver.remote.webelement.WebElement (session=\"fb2bb44ec5252d80507dea1b2c171aa9\", element=\"5c3f36bb-faf0-4f63-b22d-7e0bb11621c2\")>,\n",
       " <selenium.webdriver.remote.webelement.WebElement (session=\"fb2bb44ec5252d80507dea1b2c171aa9\", element=\"f100983f-5e40-4a8b-8951-68bdc98dbea3\")>,\n",
       " <selenium.webdriver.remote.webelement.WebElement (session=\"fb2bb44ec5252d80507dea1b2c171aa9\", element=\"380754e9-ea8c-4a87-a808-0dff9391dfcd\")>,\n",
       " <selenium.webdriver.remote.webelement.WebElement (session=\"fb2bb44ec5252d80507dea1b2c171aa9\", element=\"f027d6b0-61d9-497a-aa0f-631a3c3da9d8\")>,\n",
       " <selenium.webdriver.remote.webelement.WebElement (session=\"fb2bb44ec5252d80507dea1b2c171aa9\", element=\"45980642-023c-4826-ac10-dad0c3dbcbcd\")>,\n",
       " <selenium.webdriver.remote.webelement.WebElement (session=\"fb2bb44ec5252d80507dea1b2c171aa9\", element=\"55c67689-11d3-45bd-a9b6-a000dda331fe\")>,\n",
       " <selenium.webdriver.remote.webelement.WebElement (session=\"fb2bb44ec5252d80507dea1b2c171aa9\", element=\"0c7a156e-6019-4c02-a828-b65d8dc59f48\")>,\n",
       " <selenium.webdriver.remote.webelement.WebElement (session=\"fb2bb44ec5252d80507dea1b2c171aa9\", element=\"cb6eceea-7e41-4270-8749-ff778d2be6d8\")>,\n",
       " <selenium.webdriver.remote.webelement.WebElement (session=\"fb2bb44ec5252d80507dea1b2c171aa9\", element=\"b01fe125-e8ec-4a17-a045-e7bcdbe685b7\")>]"
      ]
     },
     "execution_count": 110,
     "metadata": {},
     "output_type": "execute_result"
    }
   ],
   "source": [
    "companies_tags=driver.find_elements_by_xpath(\"//a[@class='subTitle ellipsis fleft']\")\n",
    "companies_tags[:10]"
   ]
  },
  {
   "cell_type": "code",
   "execution_count": 111,
   "id": "c7e815c7",
   "metadata": {},
   "outputs": [
    {
     "data": {
      "text/plain": [
       "['Huquo Consulting Pvt. Ltd',\n",
       " 'HCL Technologies',\n",
       " 'Ericsson',\n",
       " 'Leading US MNC into Analytics',\n",
       " 'Connexions',\n",
       " 'TransOrg Solutions Services (P) Ltd.',\n",
       " 'Genpact',\n",
       " 'TransOrg Solutions Services (P) Ltd.',\n",
       " 'Huquo Consulting Pvt. Ltd',\n",
       " 'Ocrolus East']"
      ]
     },
     "execution_count": 111,
     "metadata": {},
     "output_type": "execute_result"
    }
   ],
   "source": [
    "for i in companies_tags:\n",
    "    company_name=i.text\n",
    "    company_names.append(company_name)\n",
    "company_names[:10] "
   ]
  },
  {
   "cell_type": "code",
   "execution_count": 112,
   "id": "8bccc465",
   "metadata": {},
   "outputs": [
    {
     "data": {
      "text/plain": [
       "[<selenium.webdriver.remote.webelement.WebElement (session=\"fb2bb44ec5252d80507dea1b2c171aa9\", element=\"2a4e7104-3da9-4a7a-aba8-23e6e9b08336\")>,\n",
       " <selenium.webdriver.remote.webelement.WebElement (session=\"fb2bb44ec5252d80507dea1b2c171aa9\", element=\"48aeb853-1584-4add-afb6-2f43952941a6\")>,\n",
       " <selenium.webdriver.remote.webelement.WebElement (session=\"fb2bb44ec5252d80507dea1b2c171aa9\", element=\"c4f45ae6-32b2-4751-be2e-6b3d469b11cf\")>,\n",
       " <selenium.webdriver.remote.webelement.WebElement (session=\"fb2bb44ec5252d80507dea1b2c171aa9\", element=\"1d50926c-abcd-4ca8-8580-62a8bea0d80f\")>,\n",
       " <selenium.webdriver.remote.webelement.WebElement (session=\"fb2bb44ec5252d80507dea1b2c171aa9\", element=\"943e270f-8f76-4e60-8501-32d5e9ff6f03\")>,\n",
       " <selenium.webdriver.remote.webelement.WebElement (session=\"fb2bb44ec5252d80507dea1b2c171aa9\", element=\"16ec53eb-31dd-4a7e-9ee2-f1ba7cb40998\")>,\n",
       " <selenium.webdriver.remote.webelement.WebElement (session=\"fb2bb44ec5252d80507dea1b2c171aa9\", element=\"23851214-2c00-42bd-9063-51981b0bee21\")>,\n",
       " <selenium.webdriver.remote.webelement.WebElement (session=\"fb2bb44ec5252d80507dea1b2c171aa9\", element=\"b95a4c0f-85cd-46a1-9609-440016f7bff2\")>,\n",
       " <selenium.webdriver.remote.webelement.WebElement (session=\"fb2bb44ec5252d80507dea1b2c171aa9\", element=\"308847ab-1548-4f05-9250-d7790f9f431d\")>,\n",
       " <selenium.webdriver.remote.webelement.WebElement (session=\"fb2bb44ec5252d80507dea1b2c171aa9\", element=\"6b5dec0a-0cf5-4e19-8327-c66bbc49706f\")>]"
      ]
     },
     "execution_count": 112,
     "metadata": {},
     "output_type": "execute_result"
    }
   ],
   "source": [
    "experience_tags=driver.find_elements_by_xpath(\"//li[@class='fleft grey-text br2 placeHolderLi experience']\")\n",
    "experience_tags[:10]"
   ]
  },
  {
   "cell_type": "code",
   "execution_count": 113,
   "id": "605a2182",
   "metadata": {},
   "outputs": [
    {
     "data": {
      "text/plain": [
       "['2-7 Yrs',\n",
       " '2-7 Yrs',\n",
       " '5-8 Yrs',\n",
       " '2-7 Yrs',\n",
       " '2-6 Yrs',\n",
       " '1-4 Yrs',\n",
       " '5-8 Yrs',\n",
       " '4-9 Yrs',\n",
       " '4-9 Yrs',\n",
       " '4-8 Yrs']"
      ]
     },
     "execution_count": 113,
     "metadata": {},
     "output_type": "execute_result"
    }
   ],
   "source": [
    "for i in experience_tags:\n",
    "    experience=i.text\n",
    "    experience_list.append(experience)\n",
    "experience_list[:10]"
   ]
  },
  {
   "cell_type": "code",
   "execution_count": 114,
   "id": "ed9da6e1",
   "metadata": {},
   "outputs": [
    {
     "data": {
      "text/plain": [
       "[<selenium.webdriver.remote.webelement.WebElement (session=\"fb2bb44ec5252d80507dea1b2c171aa9\", element=\"3446bdff-e5ef-4185-a4c3-35f6a5404d9c\")>,\n",
       " <selenium.webdriver.remote.webelement.WebElement (session=\"fb2bb44ec5252d80507dea1b2c171aa9\", element=\"aa4eb30f-e1a6-432d-8fd3-6a443ac4eb20\")>,\n",
       " <selenium.webdriver.remote.webelement.WebElement (session=\"fb2bb44ec5252d80507dea1b2c171aa9\", element=\"f7fa5a8f-b130-428d-9d7a-ce8f0c4efd35\")>,\n",
       " <selenium.webdriver.remote.webelement.WebElement (session=\"fb2bb44ec5252d80507dea1b2c171aa9\", element=\"de64f09b-ac11-4449-94ee-75d75167886e\")>,\n",
       " <selenium.webdriver.remote.webelement.WebElement (session=\"fb2bb44ec5252d80507dea1b2c171aa9\", element=\"8a64a8cc-d466-4c32-a4d4-fe3323ca2cea\")>,\n",
       " <selenium.webdriver.remote.webelement.WebElement (session=\"fb2bb44ec5252d80507dea1b2c171aa9\", element=\"ebc46d50-6c23-408b-9af3-b2b5f7920b97\")>,\n",
       " <selenium.webdriver.remote.webelement.WebElement (session=\"fb2bb44ec5252d80507dea1b2c171aa9\", element=\"35724be8-6b77-4a82-90d7-fd01931cf253\")>,\n",
       " <selenium.webdriver.remote.webelement.WebElement (session=\"fb2bb44ec5252d80507dea1b2c171aa9\", element=\"59e59045-6e89-4bc0-a8cc-04f632df15d2\")>,\n",
       " <selenium.webdriver.remote.webelement.WebElement (session=\"fb2bb44ec5252d80507dea1b2c171aa9\", element=\"718f40f3-08e1-4ca2-8add-d48ff4f4dbda\")>,\n",
       " <selenium.webdriver.remote.webelement.WebElement (session=\"fb2bb44ec5252d80507dea1b2c171aa9\", element=\"c57ac4a0-9a76-4040-b2e0-634266ad8174\")>]"
      ]
     },
     "execution_count": 114,
     "metadata": {},
     "output_type": "execute_result"
    }
   ],
   "source": [
    "locations_tags=driver=driver.find_elements_by_xpath(\"//li[@class='fleft grey-text br2 placeHolderLi location']\")\n",
    "locations_tags[:10]"
   ]
  },
  {
   "cell_type": "code",
   "execution_count": 115,
   "id": "ad6c9b2f",
   "metadata": {},
   "outputs": [
    {
     "data": {
      "text/plain": [
       "['Gurgaon/Gurugram, Bangalore/Bengaluru',\n",
       " 'Delhi / NCR',\n",
       " 'Noida',\n",
       " 'Gurgaon/Gurugram, Bangalore/Bengaluru, Delhi / NCR\\n(WFH during Covid)',\n",
       " 'Gurgaon/Gurugram',\n",
       " 'Noida, New Delhi, Gurgaon/Gurugram, Delhi / NCR, Mumbai (All Areas)',\n",
       " 'Hyderabad/Secunderabad, Bangalore/Bengaluru, Delhi / NCR',\n",
       " 'Bangalore/Bengaluru, Delhi / NCR, Mumbai (All Areas)\\n(WFH during Covid)',\n",
       " 'Gurgaon/Gurugram',\n",
       " 'Gurgaon/Gurugram']"
      ]
     },
     "execution_count": 115,
     "metadata": {},
     "output_type": "execute_result"
    }
   ],
   "source": [
    "for i in locations_tags:\n",
    "    location=i.text\n",
    "    locations.append(location)\n",
    "locations[:10] "
   ]
  },
  {
   "cell_type": "code",
   "execution_count": 116,
   "id": "3b351883",
   "metadata": {},
   "outputs": [],
   "source": [
    "jobs=pd.DataFrame({})\n",
    "jobs['title']=job_titles\n",
    "jobs['company']=company_names\n",
    "jobs['experience_required']=experience_list\n",
    "jobs['location']=locations"
   ]
  },
  {
   "cell_type": "code",
   "execution_count": 117,
   "id": "d68ae6fc",
   "metadata": {},
   "outputs": [
    {
     "data": {
      "text/html": [
       "<div>\n",
       "<style scoped>\n",
       "    .dataframe tbody tr th:only-of-type {\n",
       "        vertical-align: middle;\n",
       "    }\n",
       "\n",
       "    .dataframe tbody tr th {\n",
       "        vertical-align: top;\n",
       "    }\n",
       "\n",
       "    .dataframe thead th {\n",
       "        text-align: right;\n",
       "    }\n",
       "</style>\n",
       "<table border=\"1\" class=\"dataframe\">\n",
       "  <thead>\n",
       "    <tr style=\"text-align: right;\">\n",
       "      <th></th>\n",
       "      <th>title</th>\n",
       "      <th>company</th>\n",
       "      <th>experience_required</th>\n",
       "      <th>location</th>\n",
       "    </tr>\n",
       "  </thead>\n",
       "  <tbody>\n",
       "    <tr>\n",
       "      <th>0</th>\n",
       "      <td>Assistant Manager/Manager/Senior Manager - Dat...</td>\n",
       "      <td>Huquo Consulting Pvt. Ltd</td>\n",
       "      <td>2-7 Yrs</td>\n",
       "      <td>Gurgaon/Gurugram, Bangalore/Bengaluru</td>\n",
       "    </tr>\n",
       "    <tr>\n",
       "      <th>1</th>\n",
       "      <td>Job Opportunity || Data Scientist || HCL Techn...</td>\n",
       "      <td>HCL Technologies</td>\n",
       "      <td>2-7 Yrs</td>\n",
       "      <td>Delhi / NCR</td>\n",
       "    </tr>\n",
       "    <tr>\n",
       "      <th>2</th>\n",
       "      <td>Data Scientist</td>\n",
       "      <td>Ericsson</td>\n",
       "      <td>5-8 Yrs</td>\n",
       "      <td>Noida</td>\n",
       "    </tr>\n",
       "    <tr>\n",
       "      <th>3</th>\n",
       "      <td>Data Scientist / Machine learning Engineer- Py...</td>\n",
       "      <td>Leading US MNC into Analytics</td>\n",
       "      <td>2-7 Yrs</td>\n",
       "      <td>Gurgaon/Gurugram, Bangalore/Bengaluru, Delhi /...</td>\n",
       "    </tr>\n",
       "    <tr>\n",
       "      <th>4</th>\n",
       "      <td>Data Scientist/ Sr Data Scientist</td>\n",
       "      <td>Connexions</td>\n",
       "      <td>2-6 Yrs</td>\n",
       "      <td>Gurgaon/Gurugram</td>\n",
       "    </tr>\n",
       "    <tr>\n",
       "      <th>5</th>\n",
       "      <td>Data Scientist/ Analyst Specialist</td>\n",
       "      <td>TransOrg Solutions Services (P) Ltd.</td>\n",
       "      <td>1-4 Yrs</td>\n",
       "      <td>Noida, New Delhi, Gurgaon/Gurugram, Delhi / NC...</td>\n",
       "    </tr>\n",
       "    <tr>\n",
       "      <th>6</th>\n",
       "      <td>Data Scientist</td>\n",
       "      <td>Genpact</td>\n",
       "      <td>5-8 Yrs</td>\n",
       "      <td>Hyderabad/Secunderabad, Bangalore/Bengaluru, D...</td>\n",
       "    </tr>\n",
       "    <tr>\n",
       "      <th>7</th>\n",
       "      <td>Lead Data Scientist</td>\n",
       "      <td>TransOrg Solutions Services (P) Ltd.</td>\n",
       "      <td>4-9 Yrs</td>\n",
       "      <td>Bangalore/Bengaluru, Delhi / NCR, Mumbai (All ...</td>\n",
       "    </tr>\n",
       "    <tr>\n",
       "      <th>8</th>\n",
       "      <td>Manager - Data Scientist - Analytics</td>\n",
       "      <td>Huquo Consulting Pvt. Ltd</td>\n",
       "      <td>4-9 Yrs</td>\n",
       "      <td>Gurgaon/Gurugram</td>\n",
       "    </tr>\n",
       "    <tr>\n",
       "      <th>9</th>\n",
       "      <td>Senior Data Scientist</td>\n",
       "      <td>Ocrolus East</td>\n",
       "      <td>4-8 Yrs</td>\n",
       "      <td>Gurgaon/Gurugram</td>\n",
       "    </tr>\n",
       "    <tr>\n",
       "      <th>10</th>\n",
       "      <td>Data Scientist - Internet Jobs - II</td>\n",
       "      <td>Jobs Territory</td>\n",
       "      <td>3-6 Yrs</td>\n",
       "      <td>Bangalore/Bengaluru, Delhi / NCR, Mumbai (All ...</td>\n",
       "    </tr>\n",
       "    <tr>\n",
       "      <th>11</th>\n",
       "      <td>Hiring Senior Data Scientist - AI ( Remote) ||...</td>\n",
       "      <td>Hanu Software Solutions</td>\n",
       "      <td>13-20 Yrs</td>\n",
       "      <td>Bangalore/Bengaluru, Delhi / NCR, Mumbai (All ...</td>\n",
       "    </tr>\n",
       "    <tr>\n",
       "      <th>12</th>\n",
       "      <td>Data Scientist Opportunity with PayU - Diversi...</td>\n",
       "      <td>PayU</td>\n",
       "      <td>2-7 Yrs</td>\n",
       "      <td>Gurgaon/Gurugram, Bangalore/Bengaluru, Mumbai ...</td>\n",
       "    </tr>\n",
       "    <tr>\n",
       "      <th>13</th>\n",
       "      <td>Urgent Hiring For AI Data Scientist</td>\n",
       "      <td>Ashkom Media India Private Limited</td>\n",
       "      <td>1-4 Yrs</td>\n",
       "      <td>New Delhi, Bangalore/Bengaluru, Mumbai (All Ar...</td>\n",
       "    </tr>\n",
       "    <tr>\n",
       "      <th>14</th>\n",
       "      <td>Data Scientist</td>\n",
       "      <td>Ashkom Media India Private Limited</td>\n",
       "      <td>3-6 Yrs</td>\n",
       "      <td>Noida, Bangalore/Bengaluru</td>\n",
       "    </tr>\n",
       "    <tr>\n",
       "      <th>15</th>\n",
       "      <td>Junior Data Scientist</td>\n",
       "      <td>Snaphunt</td>\n",
       "      <td>2-5 Yrs</td>\n",
       "      <td>Gurgaon/Gurugram</td>\n",
       "    </tr>\n",
       "    <tr>\n",
       "      <th>16</th>\n",
       "      <td>Junior Data Scientist</td>\n",
       "      <td>EASY DATA ANALYTICS TECHNOLOGY PRIVATE LIMITED</td>\n",
       "      <td>1-2 Yrs</td>\n",
       "      <td>Noida</td>\n",
       "    </tr>\n",
       "    <tr>\n",
       "      <th>17</th>\n",
       "      <td>Assistant Manager/Manager/Senior Manager - Dat...</td>\n",
       "      <td>Huquo Consulting Pvt. Ltd</td>\n",
       "      <td>2-7 Yrs</td>\n",
       "      <td>Gurgaon/Gurugram, Bangalore/Bengaluru</td>\n",
       "    </tr>\n",
       "    <tr>\n",
       "      <th>18</th>\n",
       "      <td>Data Scientist</td>\n",
       "      <td>GENINVO TECHNOLOGIES PRIVATE LIMITED</td>\n",
       "      <td>5-10 Yrs</td>\n",
       "      <td>Chandigarh, Delhi / NCR\\n(WFH during Covid)</td>\n",
       "    </tr>\n",
       "    <tr>\n",
       "      <th>19</th>\n",
       "      <td>Data Scientist</td>\n",
       "      <td>Pasona</td>\n",
       "      <td>1-3 Yrs</td>\n",
       "      <td>New Delhi</td>\n",
       "    </tr>\n",
       "  </tbody>\n",
       "</table>\n",
       "</div>"
      ],
      "text/plain": [
       "                                                title  \\\n",
       "0   Assistant Manager/Manager/Senior Manager - Dat...   \n",
       "1   Job Opportunity || Data Scientist || HCL Techn...   \n",
       "2                                      Data Scientist   \n",
       "3   Data Scientist / Machine learning Engineer- Py...   \n",
       "4                   Data Scientist/ Sr Data Scientist   \n",
       "5                  Data Scientist/ Analyst Specialist   \n",
       "6                                      Data Scientist   \n",
       "7                                 Lead Data Scientist   \n",
       "8                Manager - Data Scientist - Analytics   \n",
       "9                               Senior Data Scientist   \n",
       "10                Data Scientist - Internet Jobs - II   \n",
       "11  Hiring Senior Data Scientist - AI ( Remote) ||...   \n",
       "12  Data Scientist Opportunity with PayU - Diversi...   \n",
       "13                Urgent Hiring For AI Data Scientist   \n",
       "14                                     Data Scientist   \n",
       "15                              Junior Data Scientist   \n",
       "16                              Junior Data Scientist   \n",
       "17  Assistant Manager/Manager/Senior Manager - Dat...   \n",
       "18                                     Data Scientist   \n",
       "19                                     Data Scientist   \n",
       "\n",
       "                                           company experience_required  \\\n",
       "0                        Huquo Consulting Pvt. Ltd             2-7 Yrs   \n",
       "1                                 HCL Technologies             2-7 Yrs   \n",
       "2                                         Ericsson             5-8 Yrs   \n",
       "3                    Leading US MNC into Analytics             2-7 Yrs   \n",
       "4                                       Connexions             2-6 Yrs   \n",
       "5             TransOrg Solutions Services (P) Ltd.             1-4 Yrs   \n",
       "6                                          Genpact             5-8 Yrs   \n",
       "7             TransOrg Solutions Services (P) Ltd.             4-9 Yrs   \n",
       "8                        Huquo Consulting Pvt. Ltd             4-9 Yrs   \n",
       "9                                     Ocrolus East             4-8 Yrs   \n",
       "10                                  Jobs Territory             3-6 Yrs   \n",
       "11                         Hanu Software Solutions           13-20 Yrs   \n",
       "12                                            PayU             2-7 Yrs   \n",
       "13              Ashkom Media India Private Limited             1-4 Yrs   \n",
       "14              Ashkom Media India Private Limited             3-6 Yrs   \n",
       "15                                        Snaphunt             2-5 Yrs   \n",
       "16  EASY DATA ANALYTICS TECHNOLOGY PRIVATE LIMITED             1-2 Yrs   \n",
       "17                       Huquo Consulting Pvt. Ltd             2-7 Yrs   \n",
       "18            GENINVO TECHNOLOGIES PRIVATE LIMITED            5-10 Yrs   \n",
       "19                                          Pasona             1-3 Yrs   \n",
       "\n",
       "                                             location  \n",
       "0               Gurgaon/Gurugram, Bangalore/Bengaluru  \n",
       "1                                         Delhi / NCR  \n",
       "2                                               Noida  \n",
       "3   Gurgaon/Gurugram, Bangalore/Bengaluru, Delhi /...  \n",
       "4                                    Gurgaon/Gurugram  \n",
       "5   Noida, New Delhi, Gurgaon/Gurugram, Delhi / NC...  \n",
       "6   Hyderabad/Secunderabad, Bangalore/Bengaluru, D...  \n",
       "7   Bangalore/Bengaluru, Delhi / NCR, Mumbai (All ...  \n",
       "8                                    Gurgaon/Gurugram  \n",
       "9                                    Gurgaon/Gurugram  \n",
       "10  Bangalore/Bengaluru, Delhi / NCR, Mumbai (All ...  \n",
       "11  Bangalore/Bengaluru, Delhi / NCR, Mumbai (All ...  \n",
       "12  Gurgaon/Gurugram, Bangalore/Bengaluru, Mumbai ...  \n",
       "13  New Delhi, Bangalore/Bengaluru, Mumbai (All Ar...  \n",
       "14                         Noida, Bangalore/Bengaluru  \n",
       "15                                   Gurgaon/Gurugram  \n",
       "16                                              Noida  \n",
       "17              Gurgaon/Gurugram, Bangalore/Bengaluru  \n",
       "18        Chandigarh, Delhi / NCR\\n(WFH during Covid)  \n",
       "19                                          New Delhi  "
      ]
     },
     "execution_count": 117,
     "metadata": {},
     "output_type": "execute_result"
    }
   ],
   "source": [
    "jobs"
   ]
  },
  {
   "cell_type": "markdown",
   "id": "95374732",
   "metadata": {},
   "source": [
    "Q4: Scrape data of first 100 sunglasses listings on flipkart.com. You have to scrape four attributes:\n",
    "1. Brand\n",
    "2. Product Description\n",
    "3. Price\n",
    "The attributes which you have to scrape is ticked marked in the below image.\n",
    "To scrape the data you have to go through following steps:\n",
    "1. Go to Flipkart webpage by url : https://www.flipkart.com/\n",
    "2. Enter “sunglasses” in the search field where “search for products, brands andmore” is written and click the search icon\n",
    "3. After that you will reach to the page having a lot of sunglasses. From this pageyou can scrap the required data as usual.\n",
    "4. After scraping data from the first page, go to the “Next” Button at the bottom ofthe page , then click on it.\n",
    "5. Now scrape data from this page as usual\n",
    "6. Repeat this until you get data for 100 sunglasses.\n",
    "Note: That all of the above steps have to be done by coding only and not manually."
   ]
  },
  {
   "cell_type": "code",
   "execution_count": 118,
   "id": "8d50cb6e",
   "metadata": {},
   "outputs": [],
   "source": [
    "import selenium\n",
    "from selenium import webdriver\n",
    "import pandas as pd\n",
    "import warnings\n",
    "warnings.filterwarnings(\"ignore\")\n",
    "import time"
   ]
  },
  {
   "cell_type": "code",
   "execution_count": 119,
   "id": "010d2070",
   "metadata": {},
   "outputs": [],
   "source": [
    "driver=webdriver.Chrome(r\"C:\\webdriver\\Chromedriver.exe\")"
   ]
  },
  {
   "cell_type": "code",
   "execution_count": 120,
   "id": "6645a585",
   "metadata": {},
   "outputs": [],
   "source": [
    "driver=webdriver.Chrome(\"chromedriver.exe\")\n",
    "time.sleep(2)"
   ]
  },
  {
   "cell_type": "code",
   "execution_count": 121,
   "id": "3e4f8996",
   "metadata": {},
   "outputs": [],
   "source": [
    "driver.get(\"https://www.flipkart.com/\")"
   ]
  },
  {
   "cell_type": "code",
   "execution_count": 124,
   "id": "2fc86ee7",
   "metadata": {},
   "outputs": [],
   "source": [
    "search_bar=driver.find_element_by_xpath(\"//input[@type='text']\")\n",
    "search_bar.send_keys('sunglasses')"
   ]
  },
  {
   "cell_type": "code",
   "execution_count": 125,
   "id": "a0c11c20",
   "metadata": {},
   "outputs": [],
   "source": [
    "driver.find_element_by_xpath(\"//button[@type='submit']\").click()"
   ]
  },
  {
   "cell_type": "code",
   "execution_count": 126,
   "id": "f3b5ceb7",
   "metadata": {},
   "outputs": [],
   "source": [
    "url=\"https://www.flipkart.com/search?q=sunglasses&otracker=search&otracker1=search&marketplace=FLIPKART&as-show=on&as=off\"\n",
    "driver.get(url)"
   ]
  },
  {
   "cell_type": "code",
   "execution_count": 127,
   "id": "69c5c69a",
   "metadata": {},
   "outputs": [],
   "source": [
    "brand=[]\n",
    "prod_desc=[]\n",
    "org_price=[]\n",
    "discount=[]\n",
    "disc_price=[]\n",
    "\n",
    "for i in range(0,3):\n",
    "    for j in driver.find_elements_by_xpath(\"//div[@class='_2WkVRV']\"):\n",
    "        brand.append(j.text)\n",
    "    for j in driver.find_elements_by_xpath(\"//a[@class='IRpwTa']\"):\n",
    "        prod_desc.append(j.text)\n",
    "    for j in driver.find_elements_by_xpath(\"//div[@class='_3I9_wc']\"):\n",
    "        org_price.append(j.text)\n",
    "    for j in driver.find_elements_by_xpath(\"//div[@class='_3Ay6Sb']/span\"):\n",
    "        discount.append(j.text)\n",
    "    for j in driver.find_elements_by_xpath(\"//div[@class='_30jeq3']\"):\n",
    "        disc_price.append(j.text)\n",
    "   \n",
    "    k=i+1\n",
    "    next_page=\"https://www.flipkart.com/search?q=sunglasses&otracker=search&otracker1=search&marketplace=FLIPKART&as-show=on&as=off&page=\"+str(k)\n",
    "    driver.get(next_page)\n",
    "    time.sleep(2)    "
   ]
  },
  {
   "cell_type": "code",
   "execution_count": 128,
   "id": "2e16727e",
   "metadata": {},
   "outputs": [
    {
     "name": "stdout",
     "output_type": "stream",
     "text": [
      "120 120 120 120 120\n"
     ]
    },
    {
     "data": {
      "text/html": [
       "<div>\n",
       "<style scoped>\n",
       "    .dataframe tbody tr th:only-of-type {\n",
       "        vertical-align: middle;\n",
       "    }\n",
       "\n",
       "    .dataframe tbody tr th {\n",
       "        vertical-align: top;\n",
       "    }\n",
       "\n",
       "    .dataframe thead th {\n",
       "        text-align: right;\n",
       "    }\n",
       "</style>\n",
       "<table border=\"1\" class=\"dataframe\">\n",
       "  <thead>\n",
       "    <tr style=\"text-align: right;\">\n",
       "      <th></th>\n",
       "      <th>Brand</th>\n",
       "      <th>Description</th>\n",
       "      <th>Original Price</th>\n",
       "      <th>Discount</th>\n",
       "      <th>Discounted Price</th>\n",
       "    </tr>\n",
       "  </thead>\n",
       "  <tbody>\n",
       "    <tr>\n",
       "      <th>0</th>\n",
       "      <td>VINCENT CHASE</td>\n",
       "      <td>UV Protection Rectangular Sunglasses (50)</td>\n",
       "      <td>₹1,999</td>\n",
       "      <td>67% off</td>\n",
       "      <td>₹649</td>\n",
       "    </tr>\n",
       "    <tr>\n",
       "      <th>1</th>\n",
       "      <td>VINCENT CHASE</td>\n",
       "      <td>UV Protection Cat-eye Sunglasses (54)</td>\n",
       "      <td>₹1,999</td>\n",
       "      <td>67% off</td>\n",
       "      <td>₹649</td>\n",
       "    </tr>\n",
       "    <tr>\n",
       "      <th>2</th>\n",
       "      <td>Elligator</td>\n",
       "      <td>UV Protection Round Sunglasses (54)</td>\n",
       "      <td>₹2,495</td>\n",
       "      <td>88% off</td>\n",
       "      <td>₹295</td>\n",
       "    </tr>\n",
       "    <tr>\n",
       "      <th>3</th>\n",
       "      <td>DAHAAZIL</td>\n",
       "      <td>UV Protection, Night Vision, Riding Glasses Wa...</td>\n",
       "      <td>₹999</td>\n",
       "      <td>78% off</td>\n",
       "      <td>₹219</td>\n",
       "    </tr>\n",
       "    <tr>\n",
       "      <th>4</th>\n",
       "      <td>Fastrack</td>\n",
       "      <td>UV Protection Wayfarer Sunglasses (Free Size)</td>\n",
       "      <td>₹899</td>\n",
       "      <td>28% off</td>\n",
       "      <td>₹647</td>\n",
       "    </tr>\n",
       "    <tr>\n",
       "      <th>...</th>\n",
       "      <td>...</td>\n",
       "      <td>...</td>\n",
       "      <td>...</td>\n",
       "      <td>...</td>\n",
       "      <td>...</td>\n",
       "    </tr>\n",
       "    <tr>\n",
       "      <th>95</th>\n",
       "      <td>VINCENT CHASE</td>\n",
       "      <td>UV Protection Cat-eye Sunglasses (54)</td>\n",
       "      <td>₹1,999</td>\n",
       "      <td>67% off</td>\n",
       "      <td>₹649</td>\n",
       "    </tr>\n",
       "    <tr>\n",
       "      <th>96</th>\n",
       "      <td>GANSTA</td>\n",
       "      <td>UV Protection Rectangular Sunglasses (60)</td>\n",
       "      <td>₹1,299</td>\n",
       "      <td>82% off</td>\n",
       "      <td>₹224</td>\n",
       "    </tr>\n",
       "    <tr>\n",
       "      <th>97</th>\n",
       "      <td>ROYAL SON</td>\n",
       "      <td>Mirrored Aviator Sunglasses (55)</td>\n",
       "      <td>₹1,499</td>\n",
       "      <td>73% off</td>\n",
       "      <td>₹399</td>\n",
       "    </tr>\n",
       "    <tr>\n",
       "      <th>98</th>\n",
       "      <td>Elligator</td>\n",
       "      <td>UV Protection Round Sunglasses (53)</td>\n",
       "      <td>₹998</td>\n",
       "      <td>75% off</td>\n",
       "      <td>₹244</td>\n",
       "    </tr>\n",
       "    <tr>\n",
       "      <th>99</th>\n",
       "      <td>Resist</td>\n",
       "      <td>UV Protection, Riding Glasses, Toughened Glass...</td>\n",
       "      <td>₹1,999</td>\n",
       "      <td>56% off</td>\n",
       "      <td>₹864</td>\n",
       "    </tr>\n",
       "  </tbody>\n",
       "</table>\n",
       "<p>100 rows × 5 columns</p>\n",
       "</div>"
      ],
      "text/plain": [
       "            Brand                                        Description  \\\n",
       "0   VINCENT CHASE          UV Protection Rectangular Sunglasses (50)   \n",
       "1   VINCENT CHASE              UV Protection Cat-eye Sunglasses (54)   \n",
       "2       Elligator                UV Protection Round Sunglasses (54)   \n",
       "3        DAHAAZIL  UV Protection, Night Vision, Riding Glasses Wa...   \n",
       "4        Fastrack      UV Protection Wayfarer Sunglasses (Free Size)   \n",
       "..            ...                                                ...   \n",
       "95  VINCENT CHASE              UV Protection Cat-eye Sunglasses (54)   \n",
       "96         GANSTA          UV Protection Rectangular Sunglasses (60)   \n",
       "97      ROYAL SON                   Mirrored Aviator Sunglasses (55)   \n",
       "98      Elligator                UV Protection Round Sunglasses (53)   \n",
       "99         Resist  UV Protection, Riding Glasses, Toughened Glass...   \n",
       "\n",
       "   Original Price Discount Discounted Price  \n",
       "0          ₹1,999  67% off             ₹649  \n",
       "1          ₹1,999  67% off             ₹649  \n",
       "2          ₹2,495  88% off             ₹295  \n",
       "3            ₹999  78% off             ₹219  \n",
       "4            ₹899  28% off             ₹647  \n",
       "..            ...      ...              ...  \n",
       "95         ₹1,999  67% off             ₹649  \n",
       "96         ₹1,299  82% off             ₹224  \n",
       "97         ₹1,499  73% off             ₹399  \n",
       "98           ₹998  75% off             ₹244  \n",
       "99         ₹1,999  56% off             ₹864  \n",
       "\n",
       "[100 rows x 5 columns]"
      ]
     },
     "execution_count": 128,
     "metadata": {},
     "output_type": "execute_result"
    }
   ],
   "source": [
    "print(len(brand),len(prod_desc),len(org_price),len(discount),len(disc_price))\n",
    "\n",
    "glass=pd.DataFrame({})\n",
    "glass['Brand']=brand[:100]\n",
    "glass['Description']=prod_desc[:100]\n",
    "glass['Original Price']=org_price[:100]\n",
    "glass['Discount']=discount[:100]\n",
    "glass['Discounted Price']=disc_price[:100]\n",
    "glass"
   ]
  },
  {
   "cell_type": "markdown",
   "id": "a19e8807",
   "metadata": {},
   "source": [
    "Q5: Scrape 100 reviews data from flipkart.com for iphone11 phone. You have to go the link: https://www.flipkart.com/apple-iphone-11-black-64-gb-includes- earpods-power- adapter/p/itm0f37c2240b217?pid=MOBFKCTSVZAXUHGR&lid=LSTMOBFKC TSVZAXUHGREPBFGI&marketplace.\n",
    "When you will open the above link you will reach to the below shown webpage .\n",
    "As shown in the above page you have to scrape the tick marked attributes.These are:\n",
    "1. Rating\n",
    "2. Review summary\n",
    "3. Full review\n",
    "4. You have to scrape this data for first 100 reviews.\n",
    "Note: All the steps required during scraping should be done through code only and not manually.\n",
    "Q6: Scrape data for first 100 sneakers you find when you visit flipkart.com andsearch for “sneakers” in the search field.\n",
    "You have to scrape 4 attributes of each sneaker:\n",
    "1. Brand\n",
    "2. Product Description\n",
    "3. Price\n",
    "As shown in the below image, you have to scrape the tick marked attributes.\n",
    "Note: All the steps required during scraping should be done through code only and not manually."
   ]
  },
  {
   "cell_type": "code",
   "execution_count": 129,
   "id": "259b5da7",
   "metadata": {},
   "outputs": [],
   "source": [
    "import selenium\n",
    "from selenium import webdriver\n",
    "import pandas as pd\n",
    "import warnings\n",
    "warnings.filterwarnings(\"ignore\")\n",
    "import time"
   ]
  },
  {
   "cell_type": "code",
   "execution_count": 130,
   "id": "338f7342",
   "metadata": {},
   "outputs": [],
   "source": [
    "driver=webdriver.Chrome(r\"C:\\webdriver\\Chromedriver.exe\")"
   ]
  },
  {
   "cell_type": "code",
   "execution_count": 131,
   "id": "a368a16e",
   "metadata": {},
   "outputs": [],
   "source": [
    "driver=webdriver.Chrome(\"chromedriver.exe\")\n",
    "time.sleep(2)"
   ]
  },
  {
   "cell_type": "code",
   "execution_count": 153,
   "id": "1c913a63",
   "metadata": {},
   "outputs": [],
   "source": [
    "driver.get(\"https://www.flipkart.com/apple-iphone-11-black-64-gb-includes- earpods-power- adapter/p/itm0f37c2240b217?pid=MOBFKCTSVZAXUHGR&lid=LSTMOBFKC TSVZAXUHGREPBFGI&marketplace.\")"
   ]
  },
  {
   "cell_type": "code",
   "execution_count": 154,
   "id": "f9d3b91c",
   "metadata": {},
   "outputs": [],
   "source": [
    "all_button=driver.find_element_by_xpath(\"//div[@class='_3UAT2v _16PBlm']\")\n",
    "all_button.click()"
   ]
  },
  {
   "cell_type": "code",
   "execution_count": 155,
   "id": "43de98d3",
   "metadata": {},
   "outputs": [],
   "source": [
    "rating=[]\n",
    "short_review=[]\n",
    "full_review=[]\n",
    "for i in range(1,11):\n",
    "    for a in driver.find_elements_by_xpath(\"//div[@class='col _2wzgFH K0kLPL']/div[1]\"):# ratings\n",
    "        rating.append(a.text.split(\"\\n\")[0])\n",
    "    for b in driver.find_elements_by_xpath(\"//p[@class='_2-N8zT']\"): #short_review\n",
    "        short_review.append(b.text)\n",
    "    for c in driver.find_elements_by_xpath(\"//div[@class='t-ZTKy']\"): # full review\n",
    "        full_review.append(c.text.replace(\"\\n\",\" \"))\n",
    "    time.sleep(3)   \n",
    "    url=\"\"+str(i)\n",
    "    driver.get(url)\n",
    "    time.sleep(3)"
   ]
  },
  {
   "cell_type": "code",
   "execution_count": 158,
   "id": "e50a5a62",
   "metadata": {},
   "outputs": [
    {
     "name": "stdout",
     "output_type": "stream",
     "text": [
      "90 90 90\n"
     ]
    }
   ],
   "source": [
    "print(len(rating),len(short_review),len(full_review))"
   ]
  },
  {
   "cell_type": "code",
   "execution_count": 157,
   "id": "3ade8cee",
   "metadata": {},
   "outputs": [
    {
     "data": {
      "text/html": [
       "<div>\n",
       "<style scoped>\n",
       "    .dataframe tbody tr th:only-of-type {\n",
       "        vertical-align: middle;\n",
       "    }\n",
       "\n",
       "    .dataframe tbody tr th {\n",
       "        vertical-align: top;\n",
       "    }\n",
       "\n",
       "    .dataframe thead th {\n",
       "        text-align: right;\n",
       "    }\n",
       "</style>\n",
       "<table border=\"1\" class=\"dataframe\">\n",
       "  <thead>\n",
       "    <tr style=\"text-align: right;\">\n",
       "      <th></th>\n",
       "      <th>Rating</th>\n",
       "      <th>Review summary</th>\n",
       "      <th>Full review</th>\n",
       "    </tr>\n",
       "  </thead>\n",
       "  <tbody>\n",
       "    <tr>\n",
       "      <th>0</th>\n",
       "      <td>5</td>\n",
       "      <td>Brilliant</td>\n",
       "      <td>The Best Phone for the Money  The iPhone 11 of...</td>\n",
       "    </tr>\n",
       "    <tr>\n",
       "      <th>1</th>\n",
       "      <td>5</td>\n",
       "      <td>Simply awesome</td>\n",
       "      <td>Really satisfied with the Product I received.....</td>\n",
       "    </tr>\n",
       "    <tr>\n",
       "      <th>2</th>\n",
       "      <td>5</td>\n",
       "      <td>Best in the market!</td>\n",
       "      <td>Great iPhone very snappy experience as apple k...</td>\n",
       "    </tr>\n",
       "    <tr>\n",
       "      <th>3</th>\n",
       "      <td>5</td>\n",
       "      <td>Perfect product!</td>\n",
       "      <td>Amazing phone with great cameras and better ba...</td>\n",
       "    </tr>\n",
       "    <tr>\n",
       "      <th>4</th>\n",
       "      <td>5</td>\n",
       "      <td>Fabulous!</td>\n",
       "      <td>This is my first iOS phone. I am very happy wi...</td>\n",
       "    </tr>\n",
       "    <tr>\n",
       "      <th>...</th>\n",
       "      <td>...</td>\n",
       "      <td>...</td>\n",
       "      <td>...</td>\n",
       "    </tr>\n",
       "    <tr>\n",
       "      <th>85</th>\n",
       "      <td>5</td>\n",
       "      <td>Super!</td>\n",
       "      <td>Did an upgrade from 6s plus to iphone 11. Ao f...</td>\n",
       "    </tr>\n",
       "    <tr>\n",
       "      <th>86</th>\n",
       "      <td>5</td>\n",
       "      <td>Classy product</td>\n",
       "      <td>Gifted my man on his 30th birthday 🎂 He loves ...</td>\n",
       "    </tr>\n",
       "    <tr>\n",
       "      <th>87</th>\n",
       "      <td>5</td>\n",
       "      <td>Worth every penny</td>\n",
       "      <td>Here is the thing  The only reason why you sho...</td>\n",
       "    </tr>\n",
       "    <tr>\n",
       "      <th>88</th>\n",
       "      <td>5</td>\n",
       "      <td>Excellent</td>\n",
       "      <td>It was amazing experience for me. Honestly i a...</td>\n",
       "    </tr>\n",
       "    <tr>\n",
       "      <th>89</th>\n",
       "      <td>4</td>\n",
       "      <td>Nice product</td>\n",
       "      <td>If you are looking for a premium phone under 5...</td>\n",
       "    </tr>\n",
       "  </tbody>\n",
       "</table>\n",
       "<p>90 rows × 3 columns</p>\n",
       "</div>"
      ],
      "text/plain": [
       "   Rating       Review summary  \\\n",
       "0       5            Brilliant   \n",
       "1       5       Simply awesome   \n",
       "2       5  Best in the market!   \n",
       "3       5     Perfect product!   \n",
       "4       5            Fabulous!   \n",
       "..    ...                  ...   \n",
       "85      5               Super!   \n",
       "86      5       Classy product   \n",
       "87      5    Worth every penny   \n",
       "88      5            Excellent   \n",
       "89      4         Nice product   \n",
       "\n",
       "                                          Full review  \n",
       "0   The Best Phone for the Money  The iPhone 11 of...  \n",
       "1   Really satisfied with the Product I received.....  \n",
       "2   Great iPhone very snappy experience as apple k...  \n",
       "3   Amazing phone with great cameras and better ba...  \n",
       "4   This is my first iOS phone. I am very happy wi...  \n",
       "..                                                ...  \n",
       "85  Did an upgrade from 6s plus to iphone 11. Ao f...  \n",
       "86  Gifted my man on his 30th birthday 🎂 He loves ...  \n",
       "87  Here is the thing  The only reason why you sho...  \n",
       "88  It was amazing experience for me. Honestly i a...  \n",
       "89  If you are looking for a premium phone under 5...  \n",
       "\n",
       "[90 rows x 3 columns]"
      ]
     },
     "execution_count": 157,
     "metadata": {},
     "output_type": "execute_result"
    }
   ],
   "source": [
    "iphone_df=pd.DataFrame({})\n",
    "iphone_df['Rating']=rating\n",
    "iphone_df[' Review summary']=short_review\n",
    "iphone_df[' Full review']=full_review\n",
    "iphone_df"
   ]
  },
  {
   "cell_type": "markdown",
   "id": "17023a3a",
   "metadata": {},
   "source": [
    "Q6: Scrape data for first 100 sneakers you find when you visit flipkart.com andsearch for “sneakers” in the search field.\n",
    "You have to scrape 4 attributes of each sneaker:\n",
    "1. Brand\n",
    "2. Product Description\n",
    "3. Price\n",
    "As shown in the below image, you have to scrape the tick marked attributes.\n",
    "Note: All the steps required during scraping should be done through code only and not manually."
   ]
  },
  {
   "cell_type": "code",
   "execution_count": 160,
   "id": "93394ef7",
   "metadata": {},
   "outputs": [],
   "source": [
    "import selenium\n",
    "from selenium import webdriver\n",
    "import pandas as pd\n",
    "import warnings\n",
    "warnings.filterwarnings(\"ignore\")\n",
    "import time"
   ]
  },
  {
   "cell_type": "code",
   "execution_count": 163,
   "id": "1af78b43",
   "metadata": {},
   "outputs": [],
   "source": [
    "driver=webdriver.Chrome(r\"C:\\webdriver\\Chromedriver.exe\")"
   ]
  },
  {
   "cell_type": "code",
   "execution_count": 164,
   "id": "450188ae",
   "metadata": {},
   "outputs": [],
   "source": [
    "driver=webdriver.Chrome(\"chromedriver.exe\")\n",
    "time.sleep(2)"
   ]
  },
  {
   "cell_type": "code",
   "execution_count": 165,
   "id": "9033f07c",
   "metadata": {},
   "outputs": [],
   "source": [
    "driver.get(\"https://www.flipkart.com/\")"
   ]
  },
  {
   "cell_type": "code",
   "execution_count": 166,
   "id": "74809651",
   "metadata": {},
   "outputs": [],
   "source": [
    "search_bar=driver.find_element_by_name(\"q\")\n",
    "search_bar.send_keys(\"sneakers\")\n",
    "click_button=driver.find_element_by_xpath(\"//button[@class='L0Z3Pu']\")\n",
    "click_button.click()"
   ]
  },
  {
   "cell_type": "code",
   "execution_count": 167,
   "id": "11eff952",
   "metadata": {},
   "outputs": [],
   "source": [
    "brand_list=[]\n",
    "description_list=[]\n",
    "discount_list=[]\n",
    "price_list=[]\n",
    "\n",
    "\n",
    "for i in range(1,4):\n",
    "    for p in driver.find_elements_by_xpath(\"//div[@class='_2WkVRV']\"):\n",
    "        brand_list.append(p.text)\n",
    "    for q in driver.find_elements_by_xpath(\"//div[@class='_2B099V']/a\"): \n",
    "        if q.text is None:\n",
    "            description_list.append('--')  \n",
    "        else:\n",
    "            description_list.append(q.text)\n",
    "    for r in driver.find_elements_by_xpath(\"//div[@class='_30jeq3']\"):\n",
    "        price_list.append(r.text)\n",
    "    for s in driver.find_elements_by_xpath(\"//div[@class='_3Ay6Sb']\"):\n",
    "        if s.text is None:\n",
    "            discount_list.append(\"--\")\n",
    "        else:    \n",
    "            discount_list.append(s.text)\n",
    "    time.sleep(3)    \n",
    "   \n",
    "    url = 'https://www.flipkart.com/search?q=sneakers&otracker=search&otracker1=search&marketplace=FLIPKART&as-show=on&as=off&page='+str(i)\n",
    "    driver.get(url)"
   ]
  },
  {
   "cell_type": "code",
   "execution_count": 168,
   "id": "1f4d1099",
   "metadata": {},
   "outputs": [
    {
     "name": "stdout",
     "output_type": "stream",
     "text": [
      "120 240 118 120\n"
     ]
    }
   ],
   "source": [
    "print(len(brand_list),len(description_list),len(discount_list),len(price_list))"
   ]
  },
  {
   "cell_type": "code",
   "execution_count": 169,
   "id": "c17c09ec",
   "metadata": {},
   "outputs": [
    {
     "data": {
      "text/plain": [
       "['Sneakers For Men',\n",
       " 'Sneakers For Men',\n",
       " 'Sneakers Sneakers For Men',\n",
       " 'Canvas shoes for Men Sneakers For Men']"
      ]
     },
     "execution_count": 169,
     "metadata": {},
     "output_type": "execute_result"
    }
   ],
   "source": [
    "count=0\n",
    "desc_list=[]\n",
    "while count<len(description_list):\n",
    "    desc_list.append(description_list[count])\n",
    "    count=count+2\n",
    "desc_list[0:4] "
   ]
  },
  {
   "cell_type": "code",
   "execution_count": 170,
   "id": "81dc020b",
   "metadata": {},
   "outputs": [
    {
     "data": {
      "text/html": [
       "<div>\n",
       "<style scoped>\n",
       "    .dataframe tbody tr th:only-of-type {\n",
       "        vertical-align: middle;\n",
       "    }\n",
       "\n",
       "    .dataframe tbody tr th {\n",
       "        vertical-align: top;\n",
       "    }\n",
       "\n",
       "    .dataframe thead th {\n",
       "        text-align: right;\n",
       "    }\n",
       "</style>\n",
       "<table border=\"1\" class=\"dataframe\">\n",
       "  <thead>\n",
       "    <tr style=\"text-align: right;\">\n",
       "      <th></th>\n",
       "      <th>Brand</th>\n",
       "      <th>Description</th>\n",
       "      <th>Price</th>\n",
       "      <th>Discount</th>\n",
       "    </tr>\n",
       "  </thead>\n",
       "  <tbody>\n",
       "    <tr>\n",
       "      <th>0</th>\n",
       "      <td>Robbie jones</td>\n",
       "      <td>Sneakers For Men</td>\n",
       "      <td>₹424</td>\n",
       "      <td>57% off</td>\n",
       "    </tr>\n",
       "    <tr>\n",
       "      <th>1</th>\n",
       "      <td>Hotmess</td>\n",
       "      <td>Sneakers For Men</td>\n",
       "      <td>₹182</td>\n",
       "      <td>63% off</td>\n",
       "    </tr>\n",
       "    <tr>\n",
       "      <th>2</th>\n",
       "      <td>URBANBOX</td>\n",
       "      <td>Sneakers Sneakers For Men</td>\n",
       "      <td>₹158</td>\n",
       "      <td>84% off</td>\n",
       "    </tr>\n",
       "    <tr>\n",
       "      <th>3</th>\n",
       "      <td>BRUTON</td>\n",
       "      <td>Canvas shoes for Men Sneakers For Men</td>\n",
       "      <td>₹299</td>\n",
       "      <td>76% off</td>\n",
       "    </tr>\n",
       "    <tr>\n",
       "      <th>4</th>\n",
       "      <td>KWIK FIT</td>\n",
       "      <td>Kwik FIT casual sneaker shoes and partywear sh...</td>\n",
       "      <td>₹349</td>\n",
       "      <td>82% off</td>\n",
       "    </tr>\n",
       "    <tr>\n",
       "      <th>...</th>\n",
       "      <td>...</td>\n",
       "      <td>...</td>\n",
       "      <td>...</td>\n",
       "      <td>...</td>\n",
       "    </tr>\n",
       "    <tr>\n",
       "      <th>95</th>\n",
       "      <td>AIRBELL</td>\n",
       "      <td>white sports shoes , running shoes for men Run...</td>\n",
       "      <td>₹640</td>\n",
       "      <td>65% off</td>\n",
       "    </tr>\n",
       "    <tr>\n",
       "      <th>96</th>\n",
       "      <td>ZF Klub</td>\n",
       "      <td>6616-ZF-BLACK-08 Sneakers For Men</td>\n",
       "      <td>₹349</td>\n",
       "      <td>40% off</td>\n",
       "    </tr>\n",
       "    <tr>\n",
       "      <th>97</th>\n",
       "      <td>Shoes Bank</td>\n",
       "      <td>White Sneaker For Men's/Boy's Sneakers For Men</td>\n",
       "      <td>₹348</td>\n",
       "      <td>46% off</td>\n",
       "    </tr>\n",
       "    <tr>\n",
       "      <th>98</th>\n",
       "      <td>Hida</td>\n",
       "      <td>Sneakers For Men</td>\n",
       "      <td>₹599</td>\n",
       "      <td>58% off</td>\n",
       "    </tr>\n",
       "    <tr>\n",
       "      <th>99</th>\n",
       "      <td>CALCADOS</td>\n",
       "      <td>Perfect Grip Combo pack Of 2 Sneakers For Men</td>\n",
       "      <td>₹539</td>\n",
       "      <td>62% off</td>\n",
       "    </tr>\n",
       "  </tbody>\n",
       "</table>\n",
       "<p>100 rows × 4 columns</p>\n",
       "</div>"
      ],
      "text/plain": [
       "           Brand                                        Description Price  \\\n",
       "0   Robbie jones                                   Sneakers For Men  ₹424   \n",
       "1        Hotmess                                   Sneakers For Men  ₹182   \n",
       "2       URBANBOX                          Sneakers Sneakers For Men  ₹158   \n",
       "3         BRUTON              Canvas shoes for Men Sneakers For Men  ₹299   \n",
       "4       KWIK FIT  Kwik FIT casual sneaker shoes and partywear sh...  ₹349   \n",
       "..           ...                                                ...   ...   \n",
       "95       AIRBELL  white sports shoes , running shoes for men Run...  ₹640   \n",
       "96       ZF Klub                  6616-ZF-BLACK-08 Sneakers For Men  ₹349   \n",
       "97    Shoes Bank     White Sneaker For Men's/Boy's Sneakers For Men  ₹348   \n",
       "98          Hida                                   Sneakers For Men  ₹599   \n",
       "99      CALCADOS      Perfect Grip Combo pack Of 2 Sneakers For Men  ₹539   \n",
       "\n",
       "   Discount  \n",
       "0   57% off  \n",
       "1   63% off  \n",
       "2   84% off  \n",
       "3   76% off  \n",
       "4   82% off  \n",
       "..      ...  \n",
       "95  65% off  \n",
       "96  40% off  \n",
       "97  46% off  \n",
       "98  58% off  \n",
       "99  62% off  \n",
       "\n",
       "[100 rows x 4 columns]"
      ]
     },
     "execution_count": 170,
     "metadata": {},
     "output_type": "execute_result"
    }
   ],
   "source": [
    "df=pd.DataFrame({})\n",
    "df['Brand']=brand_list[0:100]\n",
    "df['Description']=desc_list[0:100]\n",
    "df['Price']=price_list[0:100]\n",
    "df['Discount']=discount_list[0:100]\n",
    "df"
   ]
  },
  {
   "cell_type": "markdown",
   "id": "2930b94f",
   "metadata": {},
   "source": [
    "Q7: Go to the link - https://www.myntra.com/shoes\n",
    "Set Price filter to “Rs. 7149 to Rs. 14099 ” , Color filter to “Black”, as shown inthe below image.\n",
    "And then scrape First 100 shoes data you get.\n",
    "And then scrape First 100 shoes data you get. The data should include “Brand” of the shoes , Short Shoe description, price of the shoe as shown in the below image.\n",
    "Note: Applying the filter and scraping the data, everything should be done through code only and there should not be any manual step."
   ]
  },
  {
   "cell_type": "code",
   "execution_count": 171,
   "id": "a14fc29e",
   "metadata": {},
   "outputs": [],
   "source": [
    "import selenium\n",
    "from selenium import webdriver\n",
    "import pandas as pd\n",
    "import warnings\n",
    "warnings.filterwarnings(\"ignore\")\n",
    "import time"
   ]
  },
  {
   "cell_type": "code",
   "execution_count": 172,
   "id": "c646552a",
   "metadata": {},
   "outputs": [],
   "source": [
    "driver=webdriver.Chrome(r\"C:\\webdriver\\Chromedriver.exe\")"
   ]
  },
  {
   "cell_type": "code",
   "execution_count": 173,
   "id": "55bbe714",
   "metadata": {},
   "outputs": [],
   "source": [
    "driver=webdriver.Chrome(\"chromedriver.exe\")\n",
    "time.sleep(2)"
   ]
  },
  {
   "cell_type": "code",
   "execution_count": 174,
   "id": "73d051bd",
   "metadata": {},
   "outputs": [],
   "source": [
    "driver.get(\"https://www.myntra.com/shoes\")"
   ]
  },
  {
   "cell_type": "code",
   "execution_count": 175,
   "id": "50f06b31",
   "metadata": {},
   "outputs": [],
   "source": [
    "color_filter=driver.find_element_by_xpath(\"//div[@class='product-price']\")\n",
    "color_filter.click()"
   ]
  },
  {
   "cell_type": "code",
   "execution_count": 176,
   "id": "e33fd582",
   "metadata": {},
   "outputs": [],
   "source": [
    "brand=[]\n",
    "description=[]\n",
    "price=[]\n",
    "\n",
    "for i in range(0,2):\n",
    "    \n",
    "    for x in driver.find_elements_by_xpath(\"//div[@class='product-productMetaInfo']/h3\"):\n",
    "            brand.append(x.text)\n",
    "    \n",
    "  \n",
    "    for y in driver.find_elements_by_xpath(\"//h4[@class='product-product']\"):\n",
    "        description.append(y.text)\n",
    "        \n",
    "   \n",
    "    for z in driver.find_elements_by_xpath(\"//div[@class='product-price']\"):\n",
    "        price.append(z.text.split(\".\")[1].replace(\"Rs\",\"\"))\n",
    "    time.sleep(5)\n",
    "    \n",
    "   \n",
    "    \n",
    "    next_button=driver.find_element_by_xpath(\"//li[@class='pagination-next']\")\n",
    "    next_button.click()\n",
    "    time.sleep(3)"
   ]
  },
  {
   "cell_type": "code",
   "execution_count": 177,
   "id": "a76a2d7d",
   "metadata": {},
   "outputs": [
    {
     "name": "stdout",
     "output_type": "stream",
     "text": [
      "100 100 100\n"
     ]
    }
   ],
   "source": [
    "print(len(price),len(description),len(brand))"
   ]
  },
  {
   "cell_type": "code",
   "execution_count": 178,
   "id": "18bd02f4",
   "metadata": {},
   "outputs": [
    {
     "data": {
      "text/html": [
       "<div>\n",
       "<style scoped>\n",
       "    .dataframe tbody tr th:only-of-type {\n",
       "        vertical-align: middle;\n",
       "    }\n",
       "\n",
       "    .dataframe tbody tr th {\n",
       "        vertical-align: top;\n",
       "    }\n",
       "\n",
       "    .dataframe thead th {\n",
       "        text-align: right;\n",
       "    }\n",
       "</style>\n",
       "<table border=\"1\" class=\"dataframe\">\n",
       "  <thead>\n",
       "    <tr style=\"text-align: right;\">\n",
       "      <th></th>\n",
       "      <th>Brand</th>\n",
       "      <th>Description</th>\n",
       "      <th>Price in Rupees</th>\n",
       "    </tr>\n",
       "  </thead>\n",
       "  <tbody>\n",
       "    <tr>\n",
       "      <th>0</th>\n",
       "      <td>Nike</td>\n",
       "      <td></td>\n",
       "      <td>10295</td>\n",
       "    </tr>\n",
       "    <tr>\n",
       "      <th>1</th>\n",
       "      <td>Nike</td>\n",
       "      <td>Men Winflo 7 Running Shoes</td>\n",
       "      <td>7195</td>\n",
       "    </tr>\n",
       "    <tr>\n",
       "      <th>2</th>\n",
       "      <td>ALDO</td>\n",
       "      <td>Men Colourblocked Sneakers</td>\n",
       "      <td>9999</td>\n",
       "    </tr>\n",
       "    <tr>\n",
       "      <th>3</th>\n",
       "      <td>ALDO</td>\n",
       "      <td>Men Derbys</td>\n",
       "      <td>8999</td>\n",
       "    </tr>\n",
       "    <tr>\n",
       "      <th>4</th>\n",
       "      <td>ALDO</td>\n",
       "      <td>Men Slip-On Sneakers</td>\n",
       "      <td>10999</td>\n",
       "    </tr>\n",
       "    <tr>\n",
       "      <th>...</th>\n",
       "      <td>...</td>\n",
       "      <td>...</td>\n",
       "      <td>...</td>\n",
       "    </tr>\n",
       "    <tr>\n",
       "      <th>95</th>\n",
       "      <td>PUMA Motorsport</td>\n",
       "      <td>Men ZenonSpeed Sneakers</td>\n",
       "      <td>7649</td>\n",
       "    </tr>\n",
       "    <tr>\n",
       "      <th>96</th>\n",
       "      <td>Puma</td>\n",
       "      <td>Men Glory Premium Sneakers</td>\n",
       "      <td>9599</td>\n",
       "    </tr>\n",
       "    <tr>\n",
       "      <th>97</th>\n",
       "      <td>Bugatti</td>\n",
       "      <td>Men Leather Driving Shoes</td>\n",
       "      <td>8499</td>\n",
       "    </tr>\n",
       "    <tr>\n",
       "      <th>98</th>\n",
       "      <td>Puma</td>\n",
       "      <td>Unisex Leather Trainers</td>\n",
       "      <td>7999</td>\n",
       "    </tr>\n",
       "    <tr>\n",
       "      <th>99</th>\n",
       "      <td>Bugatti</td>\n",
       "      <td>Men Textured Sneakers</td>\n",
       "      <td>9999</td>\n",
       "    </tr>\n",
       "  </tbody>\n",
       "</table>\n",
       "<p>100 rows × 3 columns</p>\n",
       "</div>"
      ],
      "text/plain": [
       "              Brand                 Description Price in Rupees\n",
       "0              Nike                                       10295\n",
       "1              Nike  Men Winflo 7 Running Shoes            7195\n",
       "2              ALDO  Men Colourblocked Sneakers            9999\n",
       "3              ALDO                  Men Derbys            8999\n",
       "4              ALDO        Men Slip-On Sneakers           10999\n",
       "..              ...                         ...             ...\n",
       "95  PUMA Motorsport     Men ZenonSpeed Sneakers            7649\n",
       "96             Puma  Men Glory Premium Sneakers            9599\n",
       "97          Bugatti   Men Leather Driving Shoes            8499\n",
       "98             Puma     Unisex Leather Trainers            7999\n",
       "99          Bugatti       Men Textured Sneakers            9999\n",
       "\n",
       "[100 rows x 3 columns]"
      ]
     },
     "execution_count": 178,
     "metadata": {},
     "output_type": "execute_result"
    }
   ],
   "source": [
    "shoe_df=pd.DataFrame({})\n",
    "shoe_df['Brand']=brand\n",
    "shoe_df['Description']=description\n",
    "shoe_df['Price in Rupees']=price\n",
    "shoe_df"
   ]
  },
  {
   "cell_type": "markdown",
   "id": "f4e065b9",
   "metadata": {},
   "source": [
    "Q8: Go to webpage https://www.amazon.in/\n",
    "Enter “Laptop” in the search field and then click the search icon.\n",
    "Then set CPU Type filter to “Intel Core i7” and “Intel Core i9” as shown in the below image:\n",
    "    After setting the filters scrape first 10 laptops data. You have to scrape 3 attributesfor each laptop:\n",
    "1. Title\n",
    "2. Ratings\n",
    "3. Price\n",
    "As shown in the below image as the tick marked attributes.\n",
    "Note: All the steps required during scraping should be done through code only and not manually."
   ]
  },
  {
   "cell_type": "code",
   "execution_count": 179,
   "id": "d28c1e72",
   "metadata": {},
   "outputs": [],
   "source": [
    "import selenium\n",
    "from selenium import webdriver\n",
    "import pandas as pd\n",
    "import warnings\n",
    "warnings.filterwarnings(\"ignore\")\n",
    "import time"
   ]
  },
  {
   "cell_type": "code",
   "execution_count": 180,
   "id": "f892b02e",
   "metadata": {},
   "outputs": [],
   "source": [
    "driver=webdriver.Chrome(r\"C:\\webdriver\\Chromedriver.exe\")"
   ]
  },
  {
   "cell_type": "code",
   "execution_count": 181,
   "id": "0c0328a3",
   "metadata": {},
   "outputs": [],
   "source": [
    "driver=webdriver.Chrome(\"chromedriver.exe\")\n",
    "time.sleep(2)"
   ]
  },
  {
   "cell_type": "code",
   "execution_count": 182,
   "id": "d3ae9250",
   "metadata": {},
   "outputs": [],
   "source": [
    "driver.get(\"https://www.amazon.in/\")"
   ]
  },
  {
   "cell_type": "code",
   "execution_count": 183,
   "id": "097c769f",
   "metadata": {},
   "outputs": [],
   "source": [
    "search_product=driver.find_element_by_id(\"twotabsearchtextbox\")\n",
    "search_product.send_keys(\"laptop\")\n",
    "\n",
    "\n",
    "search_button=driver.find_element_by_id(\"nav-search-submit-button\")\n",
    "search_button.click()"
   ]
  },
  {
   "cell_type": "code",
   "execution_count": 184,
   "id": "c542ff33",
   "metadata": {},
   "outputs": [],
   "source": [
    "core7=driver.find_element_by_xpath(\"//li[@id='p_n_feature_thirteen_browse-bin/12598163031']/span/a/span\")\n",
    "core7.click()"
   ]
  },
  {
   "cell_type": "code",
   "execution_count": null,
   "id": "25e981ab",
   "metadata": {},
   "outputs": [],
   "source": []
  }
 ],
 "metadata": {
  "kernelspec": {
   "display_name": "Python 3 (ipykernel)",
   "language": "python",
   "name": "python3"
  },
  "language_info": {
   "codemirror_mode": {
    "name": "ipython",
    "version": 3
   },
   "file_extension": ".py",
   "mimetype": "text/x-python",
   "name": "python",
   "nbconvert_exporter": "python",
   "pygments_lexer": "ipython3",
   "version": "3.9.7"
  }
 },
 "nbformat": 4,
 "nbformat_minor": 5
}
