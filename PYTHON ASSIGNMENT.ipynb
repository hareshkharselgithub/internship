{
 "cells": [
  {
   "cell_type": "markdown",
   "id": "9bf35724",
   "metadata": {},
   "source": [
    "11. Write a python program to find the factorial of a number."
   ]
  },
  {
   "cell_type": "code",
   "execution_count": 5,
   "id": "b368a0c5",
   "metadata": {},
   "outputs": [
    {
     "name": "stdout",
     "output_type": "stream",
     "text": [
      "enter a number: 5\n",
      "the factorial of the number is 120\n"
     ]
    }
   ],
   "source": [
    "a=int(input(\"enter a number: \"))\n",
    "f= 1\n",
    "for i in range(1,a+1):\n",
    "    f=f*i\n",
    "print(f'the factorial of the number is {f}')"
   ]
  },
  {
   "cell_type": "markdown",
   "id": "4ab57742",
   "metadata": {},
   "source": [
    "12. Write a python program to find whether a number is prime or composite."
   ]
  },
  {
   "cell_type": "code",
   "execution_count": 22,
   "id": "3cfdb4e1",
   "metadata": {},
   "outputs": [
    {
     "name": "stdout",
     "output_type": "stream",
     "text": [
      "enter the number5\n",
      "5 is a prime number\n"
     ]
    }
   ],
   "source": [
    "num=int(input(\"enter the number\"))\n",
    "if num>1:\n",
    "    for x in range(2,num):\n",
    "        if num%x==0:\n",
    "            print(num,\"is not a prime number\")\n",
    "            break\n",
    "        else:\n",
    "            print(num,\"is a prime number\")\n",
    "            break\n",
    "    else:\n",
    "            print(num,'is a prime number')\n",
    "else:\n",
    "    print(num,\"is not a prime number\")"
   ]
  },
  {
   "cell_type": "markdown",
   "id": "21a468b9",
   "metadata": {},
   "source": [
    "13. Write a python program to check whether a given string is palindrome or not."
   ]
  },
  {
   "cell_type": "code",
   "execution_count": 27,
   "id": "13b6ddcb",
   "metadata": {},
   "outputs": [
    {
     "name": "stdout",
     "output_type": "stream",
     "text": [
      "enter a stringpython\n",
      "not a palindrome\n"
     ]
    }
   ],
   "source": [
    "string=input((\"enter a string\"))\n",
    "if(string==string[::-1]):\n",
    "    print(\"the string is a palindrome\")\n",
    "else:\n",
    "    print(\"not a palindrome\")"
   ]
  },
  {
   "cell_type": "markdown",
   "id": "6e75b411",
   "metadata": {},
   "source": [
    "14. Write a Python program to get the third side of right-angled triangle from two given sides."
   ]
  },
  {
   "cell_type": "code",
   "execution_count": 47,
   "id": "af54c3af",
   "metadata": {},
   "outputs": [
    {
     "name": "stdout",
     "output_type": "stream",
     "text": [
      "enter base:25\n",
      "enter height:15\n",
      "enter angle:36\n",
      "hypotenuse= 29.154759474226502\n"
     ]
    }
   ],
   "source": [
    "import math\n",
    "a= float(input(\"enter base:\"))\n",
    "b= float(input(\"enter height:\"))\n",
    "x= float((input(\"enter angle:\")))\n",
    "c= math.sqrt(a**2+b**2)\n",
    "print(\"hypotenuse=\",c)"
   ]
  },
  {
   "cell_type": "markdown",
   "id": "390f288e",
   "metadata": {},
   "source": [
    "15. Write a python program to print the frequency of each of the characters present in a given string."
   ]
  },
  {
   "cell_type": "code",
   "execution_count": 50,
   "id": "024bb21d",
   "metadata": {},
   "outputs": [
    {
     "name": "stdout",
     "output_type": "stream",
     "text": [
      "enter the string:python\n",
      "{'p': 1}\n",
      "{'p': 1, 'y': 1}\n",
      "{'p': 1, 'y': 1, 't': 1}\n",
      "{'p': 1, 'y': 1, 't': 1, 'h': 1}\n",
      "{'p': 1, 'y': 1, 't': 1, 'h': 1, 'o': 1}\n",
      "{'p': 1, 'y': 1, 't': 1, 'h': 1, 'o': 1, 'n': 1}\n"
     ]
    }
   ],
   "source": [
    "str1= input(\"enter the string:\")\n",
    "d= dict()\n",
    "for c in str1:\n",
    "    if c in d:\n",
    "        d[c]= d[c]+1\n",
    "    else:\n",
    "        d[c]= 1\n",
    "        print(d)\n",
    "    "
   ]
  },
  {
   "cell_type": "code",
   "execution_count": null,
   "id": "6bdd198d",
   "metadata": {},
   "outputs": [],
   "source": []
  }
 ],
 "metadata": {
  "kernelspec": {
   "display_name": "Python 3 (ipykernel)",
   "language": "python",
   "name": "python3"
  },
  "language_info": {
   "codemirror_mode": {
    "name": "ipython",
    "version": 3
   },
   "file_extension": ".py",
   "mimetype": "text/x-python",
   "name": "python",
   "nbconvert_exporter": "python",
   "pygments_lexer": "ipython3",
   "version": "3.9.7"
  }
 },
 "nbformat": 4,
 "nbformat_minor": 5
}
